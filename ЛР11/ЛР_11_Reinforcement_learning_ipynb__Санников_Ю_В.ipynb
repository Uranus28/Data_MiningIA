{
  "cells": [
    {
      "cell_type": "markdown",
      "metadata": {
        "id": "m2s4kN_QPQVe"
      },
      "source": [
        "# Введение в обучение с подкреплением  (Reinforcement Learning)\n",
        "\n",
        "\n",
        "<center>\n",
        "<img src=\"https://raw.githubusercontent.com/jcformanek/jcformanek.github.io/master/docs/assets/images/rl_in_space.png\" width=\"100%\" />\n",
        "</center>\n",
        "\n",
        "\n",
        "\n",
        "**Введение**\n",
        "\n",
        "На этом семинаре мы изучим обучение с подкреплением - тип машинного обучения без учителя, где агент учится выбирать действия, которые приводят к максимальному вознаграждению в долгосрочной перспективе. Обучение с подкреплением используется в широком спектре сложных задач, в том числе - в видеоиграх, например, [Atari](https://www.deepmind.com/blog/agent57-outperforming-the-human-atari-benchmark), [StarCraft II](https://www.deepmind.com/blog/alphastar-mastering-the-real-time-strategy-game-starcraft-ii) и [Dota II](https://openai.com/five/).\n",
        "\n",
        "На семинаре изучим классическую среду - [CartPole](https://www.gymlibrary.ml/environments/classic_control/cart_pole/), где агент должен научиться балансировать шестом на тележке (см лекцию), используя несколько различных подходов RL. По пути вы познакомитесь с некоторыми из самых важных концепций и терминологии в RL.\n",
        "\n",
        "**Темы:**\n",
        "* Reinforcement Learning (RL, Обучение с подкреплением)\n",
        "* Random Policy Search (Случайный поиск политики)\n",
        "* Policy Gradient (Градиент политики)\n",
        "* Q-Learning\n",
        "\n",
        "\n",
        "**Что надо сделать для лучшего понимания:**\n",
        "\n",
        "* почитать про библиотеку [JAX](https://github.com/google/jax).\n",
        "* вспомнить нейроки.\n",
        "\n"
      ]
    },
    {
      "cell_type": "markdown",
      "metadata": {
        "id": "6EqhIg1odqg0"
      },
      "source": [
        "### Настраиваем среду"
      ]
    },
    {
      "cell_type": "code",
      "execution_count": null,
      "metadata": {
        "id": "4boGA9rYdt9l"
      },
      "outputs": [],
      "source": [
        "# @title Установка необходимых пакетов (надо просто запустить!) { display-mode: \"form\" }\n",
        "# @markdown Может занять несколько минут\n",
        "%%capture\n",
        "!pip install jaxlib\n",
        "!pip install jax\n",
        "!pip install git+https://github.com/deepmind/dm-haiku\n",
        "!pip install gym==0.25\n",
        "!pip install gym[box2d]\n",
        "!pip install optax\n",
        "!pip install matplotlib\n",
        "!pip install chex\n",
        "!pip install gym[classic_control]"
      ]
    },
    {
      "cell_type": "code",
      "execution_count": null,
      "metadata": {
        "id": "gwbqggmcRjMy"
      },
      "outputs": [],
      "source": [
        "# @title Импорт необходимых пакетов (просто запустите ячейку) { display-mode: \"form\" }\n",
        "%%capture\n",
        "import copy\n",
        "from shutil import rmtree # deleting directories\n",
        "import random\n",
        "import collections # useful data structures\n",
        "import numpy as np\n",
        "import gym # reinforcement learning environments\n",
        "from gym.wrappers import RecordVideo\n",
        "import jax\n",
        "import jax.numpy as jnp # jax numpy\n",
        "import haiku as hk # jax neural network library\n",
        "import optax # jax optimizer library\n",
        "import matplotlib.pyplot as plt # graph plotting library\n",
        "from IPython.display import HTML\n",
        "from base64 import b64encode\n",
        "import chex\n",
        "\n",
        "# Hide warnings\n",
        "import warnings\n",
        "warnings.filterwarnings('ignore')"
      ]
    },
    {
      "cell_type": "markdown",
      "metadata": {
        "id": "-ZUp8i37dFbU"
      },
      "source": [
        "## 1. Ключевые концепции обучения с подкреплением\n",
        "\n",
        "Обучение с подкреплением (RL) является подразделом машинного обучения (ML). В отличие от таких областей, как контролируемое обучение, где мы даем примеры ожидаемого поведения нашим моделям, RL фокусируется на *целеориентированном* обучении из взаимодействий методом проб и ошибок. Алгоритмы RL изучают, что делать (т. е. какие оптимальные действия предпринять) в среде, чтобы максимизировать некий сигнал вознаграждения. В таких условиях, как видеоигра, сигналом вознаграждения может быть счет игры, т. е. алгоритмы RL будут пытаться максимизировать счет в игре, выбирая лучшие действия.\n",
        "\n",
        "<center>\n",
        "<img src=\"https://pettingzoo.farama.org/_images/environments-demo.gif\" width=\"40%\" />\n",
        "</center>\n",
        "\n",
        "[*Image Source*](https://pettingzoo.farama.org/)\n",
        "\n",
        "Другими словами, в RL у нас есть **агент**, который воспринимает **наблюдение** $o_t$ текущего состояния $s_t$ **окружающей среды** и должен выбрать **действие** $a_t$ для выполнения.\n",
        "\n",
        "Затем окружающая среда переходит в новое состояние $s_{t+1}$ в ответ на действие агента, а также дает агенту скалярное вознаграждение $r_t$, чтобы указать, насколько хорошим или плохим было выбранное действие, учитывая состояние окружающей среды.\n",
        "\n",
        "Целью в RL является максимизация агентом суммы вознаграждения, которое он получает от окружающей среды с течением времени. Нижний индекс $t$ используется для указания номера временного шага, т. е. $s_0$ - это состояние окружающей среды на начальном временном шаге, а $a_{99}$ - это действие агента на $99-м$ временном шаге."
      ]
    },
    {
      "cell_type": "markdown",
      "metadata": {
        "id": "Ghgy69hFRjMz"
      },
      "source": [
        "### Среда - OpenAI Gym\n",
        "Как упоминалось выше, среда получает от агента действие $a_t$ и возвращает вознаграждение $r_t$ и наблюдение $o_t$.\n",
        "\n",
        "OpenAI разработал пакет для Python под названием **Gym**, который включает реализации популярных сред и простой интерфейс для взаимодействия агента RL. Чтобы использовать поддерживаемую [среду gym](https://www.gymlibrary.ml/), все, что вам нужно сделать, это передать имя среды в функцию  `gym.make(<environment_name>)`.\n",
        "\n",
        "В этом уроке мы будем использовать простую среду под названием **CartPole**. В CartPole задача агента — научиться балансировать на шесте как можно дольше, перемещая тележку *влево* или *вправо*.\n",
        "\n",
        "<img src=\"https://user-images.githubusercontent.com/10854026/32486103-f15f19de-c3a5-11e7-81de-0605df939497.gif\" width=\"50%\" />"
      ]
    },
    {
      "cell_type": "code",
      "execution_count": null,
      "metadata": {
        "id": "WfxzajMYRjMz"
      },
      "outputs": [],
      "source": [
        "# Create the environment\n",
        "env_name = \"CartPole-v0\"\n",
        "env = gym.make(env_name)"
      ]
    },
    {
      "cell_type": "markdown",
      "metadata": {
        "id": "y_BbftaJj3zu"
      },
      "source": [
        "### Состояние (States) и Наблюдение (Observations) - $s_t$ and $o_t$\n",
        "\n",
        "В RL агент воспринимает наблюдение за состоянием среды. В некоторых настройках наблюдение может включать всю информацию, лежащую в основе состояния среды. Такая среда называется **полностью наблюдаемой**. В других настройках агент может получать только частичную информацию о состоянии среды в своем наблюдении. Такая среда называется **частично наблюдаемой**.\n",
        "\n",
        "В оставшейся части этого руководства мы будем предполагать, что среда полностью наблюдаема, и поэтому будем использовать состояние $s_t$ и наблюдение $o_t$ взаимозаменяемо. В Gym мы получаем начальное наблюдение из среды, вызывая функцию `env.reset()`."
      ]
    },
    {
      "cell_type": "code",
      "execution_count": null,
      "metadata": {
        "id": "HdS8nqOgRjM0",
        "colab": {
          "base_uri": "https://localhost:8080/"
        },
        "outputId": "bcfe13c7-eff7-4213-863b-08c8a2aa18db"
      },
      "outputs": [
        {
          "output_type": "stream",
          "name": "stdout",
          "text": [
            "Initial State:: [ 0.0317341  -0.03695207 -0.00852879 -0.04173071]\n",
            "Environment Obs Space Shape: (4,)\n"
          ]
        }
      ],
      "source": [
        "# Reset the environment\n",
        "s_0 = env.reset()\n",
        "print(\"Initial State::\", s_0)\n",
        "\n",
        "# Get environment obs space\n",
        "obs_shape = env.observation_space.shape\n",
        "print(\"Environment Obs Space Shape:\", obs_shape)"
      ]
    },
    {
      "cell_type": "markdown",
      "metadata": {
        "id": "pUNX6mbotABo"
      },
      "source": [
        "В CartPole состояние окружающей среды представлено четырьмя числами: *угловое положение полюса, угловая скорость полюса, положение тележки, скорость тележки*."
      ]
    },
    {
      "cell_type": "markdown",
      "metadata": {
        "id": "hL1Nkgy7nUfn"
      },
      "source": [
        "### Действия (Actions) - $a_t$\n",
        "\n",
        "В RL действия обычно либо **дискретные**, либо **непрерывные**. Непрерывные действия задаются вектором действительных чисел. Дискретные действия задаются целочисленным значением. В средах, где мы можем подсчитать конечный набор действий, мы обычно используем дискретные действия.\n",
        "\n",
        "В CartPole есть только два действия: *влево* и *вправо*. Таким образом, действия могут быть представлены целыми числами $0$ и $1$. В gym мы можем легко получить список возможных действий следующим образом:"
      ]
    },
    {
      "cell_type": "code",
      "execution_count": null,
      "metadata": {
        "id": "uOLZqU_LpIXh",
        "colab": {
          "base_uri": "https://localhost:8080/"
        },
        "outputId": "4cee3963-64a2-49f9-bf85-0c2c5a492357"
      },
      "outputs": [
        {
          "output_type": "stream",
          "name": "stdout",
          "text": [
            "Environment action space: Discrete(2)\n",
            "Number of actions: 2\n"
          ]
        }
      ],
      "source": [
        "# Get action space - e.g. discrete or continuous\n",
        "print(f\"Environment action space: {env.action_space}\")\n",
        "\n",
        "# Get num actions\n",
        "num_actions = env.action_space.n\n",
        "print(f\"Number of actions: {num_actions}\")"
      ]
    },
    {
      "cell_type": "markdown",
      "metadata": {
        "id": "tRsflxbDpoPm"
      },
      "source": [
        "### Политика агента (The Agent's Policy) - $\\pi$\n",
        "\n",
        "В RL агент выбирает действия на основе полученных наблюдений. Мы можем представить процесс выбора действия агента как функцию, которая принимает наблюдение в качестве входных данных и возвращает действие в качестве выходных данных. В RL мы обычно называем эту функцию **политикой** агента и обозначаем ее $\\pi(s_t)=a_t$. В RL мы обычно параметризуем нашу политику каким-либо образом, а затем пытаемся узнать оптимальные параметры. Параметризованная политика обычно обозначается $\\pi_\\theta$, где $\\theta$ — это набор параметров.\n",
        "\n",
        "**Упражнение 1:** В качестве упражнения давайте реализуем простую политику, которая принимает набор параметров и наблюдение в качестве входных данных и возвращает действие. Предположим, что наблюдение — это вектор из четырех чисел, как наблюдение CartPole, и что действие должно быть либо $0$, либо $1$. Предположим также, что параметры — это вектор из четырех действительных чисел. Тогда действие должно быть вычислено следующим образом.\n",
        "\n",
        "\n",
        "1. Вычислите [скалярное произведение векторов](https://www.mathsisfun.com/algebra/vectors-dot-product.html) между наблюдением и параметрами.\n",
        "2. Если результат больше нуля, верните действие $1$.\n",
        "3. В противном случае верните действие $0$.\n",
        "\n",
        "В этом упражнении мы постараемся использовать JAX как можно чаще. Поэтому постарайтесь использовать методы JAX для этой задачи. Ниже приведены некоторые полезные методы, которые вы можете использовать. Вам нужно будет завершить код в блоке ниже, заменив `...` правильным кодом.\n",
        "\n",
        "\n",
        "**Полезные методы:**\n",
        "* Вычислите скалярное произведение векторов с помощью `jax.numpy.dot` ([docs](https://jax.readthedocs.io/en/latest/_autosummary/jax.numpy.dot.html)).\n",
        "\n",
        "* Когда вы пытаетесь условно присвоить значение $0$ или $1$ действию на основе результата скалярного произведения, вам следует использовать `jax.lax.select` ([docs](https://jax.readthedocs.io/en/latest/_autosummary/jax.lax.select.html#jax.lax.select)).\n",
        "\n",
        "Метод `jax.lax.select` принимает три аргумента в качестве входных данных. Первый аргумент — это оператор, который будет оцениваться как `True` или `False`.\n",
        "\n",
        "Если оператор равен `True`, то `jax.lax.select` вернет свой второй аргумент.\n",
        "\n",
        "Если оператор имеет значение `False`, `jax.lax.select` вернет свой третий аргумент.\n",
        "\n"
      ]
    },
    {
      "cell_type": "code",
      "execution_count": null,
      "metadata": {
        "id": "KSGCd7XB1z8k"
      },
      "outputs": [],
      "source": [
        "def linear_policy(params, obs):\n",
        "  \"\"\"A simple linear policy\n",
        "\n",
        "  Args:\n",
        "    params: a vector of four real-numbers that give the parameters of the policy\n",
        "    obs: a vector of four real-numbers that give the agent's observation\n",
        "\n",
        "  Returns:\n",
        "    a discrete action given by a 0 or 1\n",
        "  \"\"\"\n",
        "  # YOUR CODE\n",
        "  dot_product_result = jax.numpy.dot(params, obs)\n",
        "\n",
        "  action = jax.lax.select(\n",
        "      dot_product_result>0, # boolean statement goes here\n",
        "      1, # result when the statement is True goes here\n",
        "      0 # result when the statement is False goes here\n",
        ")\n",
        "  # END YOUR CODE\n",
        "  return action"
      ]
    },
    {
      "cell_type": "code",
      "execution_count": null,
      "metadata": {
        "id": "9EnnBvceb1f3",
        "colab": {
          "base_uri": "https://localhost:8080/"
        },
        "outputId": "c20faf38-765e-4297-cc14-14b5e6c79ca7"
      },
      "outputs": [
        {
          "output_type": "stream",
          "name": "stdout",
          "text": [
            "Your function is correct!\n"
          ]
        }
      ],
      "source": [
        "# @title Проверка упр 1  { display-mode: \"form\" }\n",
        "\n",
        "def check_linear_policy(linear_policy):\n",
        "  fixed_obs = jnp.array([1,1,2,4])\n",
        "\n",
        "  # check case1 - negative dot product.\n",
        "  # weights\n",
        "  params1 = jnp.array([1,1,1,1])\n",
        "  params2 = jnp.array([-1,-1,-1,-1])\n",
        "\n",
        "  hint1 = f\"Неправильный ответ, ваша линейная политика неверна. Действие при \\\n",
        "obs={fixed_obs} и params={params1} должно быть 1\"\n",
        "\n",
        "  hint2 = f\"Неправильный ответ, ваша линейная политика неверна. Действие при \\\n",
        "obs={fixed_obs} и params={params2} должно быть 0\"\n",
        "\n",
        "  hint = None\n",
        "  if linear_policy(params1, fixed_obs) != 1:\n",
        "    hint = hint1\n",
        "  elif linear_policy(params2, fixed_obs) != 0:\n",
        "    hint = hint2\n",
        "\n",
        "  if hint is not None:\n",
        "    print(hint)\n",
        "  else:\n",
        "    print(\"Your function is correct!\")\n",
        "\n",
        "try:\n",
        "  check_linear_policy(linear_policy)\n",
        "except Exception as e:\n",
        "    print(\"An Error Occured: {}\".format(e))"
      ]
    },
    {
      "cell_type": "markdown",
      "metadata": {
        "id": "PkuvT-jf6Ieh"
      },
      "source": [
        "### Функция перехода среды - $P$\n",
        "\n",
        "Теперь, когда у нас есть политика, мы можем передавать действия от агента среде. Затем среда перейдет в новое состояние в ответ на действие агента.\n",
        "\n",
        "В RL мы моделируем этот процесс с помощью **функции перехода состояния** $P$, которая принимает текущее состояние $s_t$ и действие $a_t$ в качестве входных данных и возвращает следующее состояние $s_{t+1}$ в качестве выходных данных:\n",
        "\n",
        "<center>\n",
        "$s_{t+1}=P(s_t, a_t)$\n",
        "</center>\n",
        "\n",
        "В gym мы можем передавать действия среде, вызывая функцию `env.step(<action>)`. Затем функция вернет четыре значения:\n",
        "- **следующее наблюдение**\n",
        "- **награду** за выполненное действие\n",
        "- логический флаг, указывающий, **завершена** игра\n",
        "- некоторую **дополнительную** информацию."
      ]
    },
    {
      "cell_type": "code",
      "execution_count": null,
      "metadata": {
        "id": "hh0j9-Tk7olb",
        "colab": {
          "base_uri": "https://localhost:8080/"
        },
        "outputId": "5f1c3155-ad74-4968-b33b-6d2397d254ba"
      },
      "outputs": [
        {
          "output_type": "stream",
          "name": "stdout",
          "text": [
            "Observation: [-0.00633774  0.01982826  0.01351133 -0.00650838]\n",
            "Action: 0\n",
            "Next observation: [-0.00594117 -0.17548484  0.01338117  0.29040673]\n",
            "Reward: 1.0\n",
            "Game is done: False\n"
          ]
        }
      ],
      "source": [
        "# Get the initial obs by resetting the env\n",
        "initial_obs = env.reset()\n",
        "\n",
        "# Randomly sample actions from env\n",
        "action = env.action_space.sample()\n",
        "\n",
        "# Step the environment\n",
        "next_obs, reward, done, info = env.step(action)\n",
        "\n",
        "print(\"Observation:\", initial_obs)\n",
        "print(\"Action:\", action)\n",
        "print(\"Next observation:\", next_obs)\n",
        "print(\"Reward:\", reward)\n",
        "print(\"Game is done:\", done)"
      ]
    },
    {
      "cell_type": "code",
      "source": [],
      "metadata": {
        "id": "7aH-gd6WFcqI"
      },
      "execution_count": null,
      "outputs": []
    },
    {
      "cell_type": "markdown",
      "metadata": {
        "id": "bX9iZtu48UYn"
      },
      "source": [
        "### Возврат эпизода - $R_t$\n",
        "\n",
        "В RL мы обычно разбиваем взаимодействие агента с окружающей средой на **эпизоды**. Сумма всех вознаграждений, собранных во время эпизода, - это то, что мы называем **возвратом** эпизода - $R_t$:\n",
        "\n",
        "<center>\n",
        "$R_t=\\sum_{t=0}^Tr_t$,\n",
        "</center>\n",
        "\n",
        "где $r_t$ - это вознаграждение в момент времени $t$, а $T$ - это последний временной шаг. Цель в RL - выбрать действия, которые максимизируют этот ожидаемый будущий возврат $R_t$."
      ]
    },
    {
      "cell_type": "markdown",
      "metadata": {
        "id": "y6KZA1Nq9p47"
      },
      "source": [
        "### Цикл агент-среда\n",
        "Теперь, когда мы знаем, что такое политика, и знаем, как пошагово проходить среду, давайте закроем цикл агент-среда.\n",
        "\n",
        "**Упражнение 2:** Напишите функцию, которая запускает один эпизод CartPole, последовательно выбирая действия и пошагово проходя среду. Вам следует использовать линейную политику, которую мы определили ранее, для выбора действий. Функция должна отслеживать полученное вознаграждение и выводить возврат в конце эпизода.\n",
        "\n",
        "В CartPole агент получает вознаграждение `1` за каждый временной шаг, когда шест все еще стоит вертикально. Если шест падает, игра заканчивается, и агент больше не получает вознаграждения. Игра также заканчивается после `200` временных шагов, поэтому максимальное вознаграждение, которое может получить агент, составляет `200`."
      ]
    },
    {
      "cell_type": "code",
      "execution_count": null,
      "metadata": {
        "id": "Buy0X7mi-gHP"
      },
      "outputs": [],
      "source": [
        "def run_episode(env):\n",
        "  episode_return = 0 # counter to keep track of rewards\n",
        "  done = False # initially set to False\n",
        "  params = jnp.array([1,-2,2,-1]) # fixed policy parameters\n",
        "\n",
        "  ## YOUR CODE\n",
        "\n",
        "  obs = env.reset() # TODO: get the initial obs from the env\n",
        "\n",
        "  while not done: # loop until episode is done\n",
        "\n",
        "    action = linear_policy(params, obs) # TODO: compute action using linear policy\n",
        "    action = np.array(action) # We need to the convert the action from the policy to a np.array\n",
        "\n",
        "    obs, reward, done, info = env.step(action) # TODO: step the environment\n",
        "\n",
        "    episode_return += reward # TODO: add reward to episode return\n",
        "\n",
        "  return episode_return"
      ]
    },
    {
      "cell_type": "code",
      "source": [
        "run_episode(env)"
      ],
      "metadata": {
        "colab": {
          "base_uri": "https://localhost:8080/"
        },
        "id": "qTJKcDF-FfyJ",
        "outputId": "749ae484-1ddb-4e4c-d927-cec274a0f2e0"
      },
      "execution_count": null,
      "outputs": [
        {
          "output_type": "execute_result",
          "data": {
            "text/plain": [
              "28.0"
            ]
          },
          "metadata": {},
          "execution_count": 10
        }
      ]
    },
    {
      "cell_type": "code",
      "execution_count": null,
      "metadata": {
        "id": "bA2Orj9PVbKO",
        "colab": {
          "base_uri": "https://localhost:8080/"
        },
        "outputId": "ae9479ce-07ea-4099-92e2-7b78fc601e87"
      },
      "outputs": [
        {
          "output_type": "stream",
          "name": "stdout",
          "text": [
            "Looks correct!\n"
          ]
        }
      ],
      "source": [
        "# @title Проверка упр 2 (run me) { display-mode: \"form\" }\n",
        "\n",
        "try:\n",
        "  env.seed(42)\n",
        "  if run_episode(env) == 31:\n",
        "    print(\"Looks correct!\")\n",
        "  else:\n",
        "    print(\"Looks like your implementation might be wrong.\")\n",
        "except Exception as e:\n",
        "    print(\"An Error Occured: {}\".format(e))"
      ]
    },
    {
      "cell_type": "markdown",
      "metadata": {
        "id": "fUGdzHxJnZGl"
      },
      "source": [
        "В CartPole среда считается решенной, когда агент может надежно достичь возврата эпизода 500. Как вы можете видеть, наша текущая политика далека от оптимальной.\n",
        "\n",
        "Один из способов найти оптимальную политику — это случайным образом пробовать разные политики, пока не найдем оптимальную. Эта стратегия называется случайным поиском политики и может быть на удивление эффективной.\n",
        "\n",
        "Прежде чем мы реализуем случайный поиск политики, давайте быстро рассмотрим общий цикл обучения RL, который мы будем использовать для реализации алгоритмов в оставшейся части этого руководства.\n",
        "\n",
        "### Цикл обучения RL общего назначения\n",
        "Мы реализовали для вас цикл обучения RL общего назначения. Цикл обучения принимает несколько аргументов в качестве входных данных, но три наиболее важных для понимания — это `agent_select_action_func`, `agent_learn_func` и `agent_memory`.\n",
        "\n",
        "* `agent_select_action_func` — это функция, которую мы определяем и можем передать в цикл обучения. Функция принимает наблюдение и набор `agent_params` в качестве входных данных и должна возвращать действие.\n",
        "* `agent_learn_func` — это еще один метод, который мы определяем и передаем в цикл обучения. Он должен принимать параметры агента и некоторые «воспоминания» в качестве входных данных, а затем обновлять и возвращать агентам новые параметры.\n",
        "* `agent_memory` — это модуль общего назначения, который мы определяем, который может хранить некоторую релевантную информацию об опыте агента в среде, которую можно использовать в `agent_learn_func`.\n",
        "\n",
        "Ниже приведена функция цикла обучения, которую мы реализовали для вас. Вы можете просмотреть код и попытаться понять его, но это не обязательно. Таким образом, мы скрыли код по умолчанию, просто убедитесь, что вы запустили ячейку кода, прежде чем двигаться дальше, потому что цикл обучения далее в коде."
      ]
    },
    {
      "cell_type": "code",
      "execution_count": null,
      "metadata": {
        "id": "ZWBwz3zMRjM0"
      },
      "outputs": [],
      "source": [
        "#@title Training loop (run me) { display-mode: \"form\" }\n",
        "\n",
        "# NamedTuple to store transitions\n",
        "Transition = collections.namedtuple(\"Transition\", [\"obs\", \"action\", \"reward\", \"next_obs\", \"done\"])\n",
        "\n",
        "# Training Loop\n",
        "def run_training_loop(env_name, agent_params, agent_select_action_func,\n",
        "    agent_actor_state=None, agent_learn_func=None, agent_learner_state=None,\n",
        "    agent_memory=None, num_episodes=1000, evaluator_period=100,\n",
        "    evaluation_episodes=8, learn_steps_per_episode=1,\n",
        "    train_every_timestep=False, video_subdir=\"\",):\n",
        "    \"\"\"\n",
        "    This function runs several episodes in an environment and periodically does\n",
        "    some agent learning and evaluation.\n",
        "\n",
        "    Args:\n",
        "        env: a gym environment.\n",
        "        agent_params: an object to store parameters that the agent uses.\n",
        "        agent_select_func: a function that does action selection for the agent.\n",
        "        agent_actor_state (optional): an object that stores the internal state\n",
        "            of the agents action selection function.\n",
        "        agent_learn_func (optional): a function that does some learning for the\n",
        "            agent by updating the agent parameters.\n",
        "        agent_learn_state (optional): an object that stores the internal state\n",
        "            of the agent learn function.\n",
        "        agent_memory (optional): an object for storing an retrieving historical\n",
        "            experience.\n",
        "        num_episodes: how many episodes to run.\n",
        "        evaluator_period: how often to run evaluation.\n",
        "        evaluation_episodes: how many evaluation episodes to run.\n",
        "        train_every_timestep: whether to train every timestep rather than at the end\n",
        "            of the episode.\n",
        "        video_subdir: subdirectory to store epsiode recordings.\n",
        "\n",
        "    Returns:\n",
        "        episode_returns: list of all the episode returns.\n",
        "        evaluator_episode_returns: list of all the evaluator episode returns.\n",
        "    \"\"\"\n",
        "\n",
        "    # Setup Cartpole environment and recorder\n",
        "    env = gym.make(env_name, render_mode=\"rgb_array\") # training environment\n",
        "    eval_env = gym.make(env_name, render_mode=\"rgb_array\") # evaluation environment\n",
        "\n",
        "    # Video dir\n",
        "    video_dir = \"./video\"+\"/\"+video_subdir\n",
        "\n",
        "    # Clear video dir\n",
        "    try:\n",
        "      rmtree(video_dir)\n",
        "    except:\n",
        "      pass\n",
        "\n",
        "    # Wrap in recorder\n",
        "    env = RecordVideo(env, video_dir+\"/train\", episode_trigger=lambda x: (x % evaluator_period) == 0)\n",
        "    eval_env = RecordVideo(eval_env, video_dir+\"/eval\", episode_trigger=lambda x: (x % evaluation_episodes) == 0)\n",
        "\n",
        "    # JAX random number generator\n",
        "    rng = hk.PRNGSequence(jax.random.PRNGKey(0))\n",
        "    env.seed(0) # seed environment for reproducability\n",
        "    random.seed(0)\n",
        "\n",
        "    episode_returns = [] # List to store history of episode returns.\n",
        "    evaluator_episode_returns = [] # List to store history of evaluator returns.\n",
        "    timesteps = 0\n",
        "    for episode in range(num_episodes):\n",
        "\n",
        "        # Reset environment.\n",
        "        obs = env.reset()\n",
        "        episode_return = 0\n",
        "        done = False\n",
        "\n",
        "        while not done:\n",
        "\n",
        "            # Agent select action.\n",
        "            action, agent_actor_state = agent_select_action_func(\n",
        "                                            next(rng),\n",
        "                                            agent_params,\n",
        "                                            agent_actor_state,\n",
        "                                            np.array(obs)\n",
        "                                        )\n",
        "\n",
        "            # Step environment.\n",
        "            next_obs, reward, done, _ = env.step(int(action))\n",
        "\n",
        "            # Pack into transition.\n",
        "            transition = Transition(obs, action, reward, next_obs, done)\n",
        "\n",
        "            # Add transition to memory.\n",
        "            if agent_memory: # check if agent has memory\n",
        "              agent_memory.push(transition)\n",
        "\n",
        "            # Add reward to episode return.\n",
        "            episode_return += reward\n",
        "\n",
        "            # Set obs to next obs before next environment step. CRITICAL!!!\n",
        "            obs = next_obs\n",
        "\n",
        "            # Increment timestep counter\n",
        "            timesteps += 1\n",
        "\n",
        "            # Maybe learn every timestep\n",
        "            if train_every_timestep and (timesteps % 4 == 0) and agent_memory and agent_memory.is_ready(): # Make sure memory is ready\n",
        "                # First sample memory and then pass the result to the learn function\n",
        "                memory = agent_memory.sample()\n",
        "                agent_params, agent_learner_state = agent_learn_func(\n",
        "                                                        next(rng),\n",
        "                                                        agent_params,\n",
        "                                                        agent_learner_state,\n",
        "                                                        memory\n",
        "                                                    )\n",
        "\n",
        "        episode_returns.append(episode_return)\n",
        "\n",
        "        # At the end of every episode we do a learn step.\n",
        "        if agent_memory and agent_memory.is_ready(): # Make sure memory is ready\n",
        "\n",
        "            for _ in range(learn_steps_per_episode):\n",
        "                # First sample memory and then pass the result to the learn function\n",
        "                memory = agent_memory.sample()\n",
        "                agent_params, agent_learner_state = agent_learn_func(\n",
        "                                                        next(rng),\n",
        "                                                        agent_params,\n",
        "                                                        agent_learner_state,\n",
        "                                                        memory\n",
        "                                                    )\n",
        "\n",
        "        if (episode % evaluator_period) == 0: # Do evaluation\n",
        "\n",
        "            evaluator_episode_return = 0\n",
        "            for eval_episode in range(evaluation_episodes):\n",
        "                obs = eval_env.reset()\n",
        "                done = False\n",
        "                while not done:\n",
        "                    action, _ = agent_select_action_func(\n",
        "                                    next(rng),\n",
        "                                    agent_params,\n",
        "                                    agent_actor_state,\n",
        "                                    np.array(obs),\n",
        "                                    evaluation=True\n",
        "                                )\n",
        "\n",
        "                    obs, reward, done, _ = eval_env.step(int(action))\n",
        "\n",
        "                    evaluator_episode_return += reward\n",
        "\n",
        "            evaluator_episode_return /= evaluation_episodes\n",
        "\n",
        "            evaluator_episode_returns.append(evaluator_episode_return)\n",
        "\n",
        "            logs = [\n",
        "                    f\"Episode: {episode}\",\n",
        "                    f\"Episode Return: {episode_return}\",\n",
        "                    f\"Average Episode Return: {np.mean(episode_returns[-20:])}\",\n",
        "                    f\"Evaluator Episode Return: {evaluator_episode_return}\"\n",
        "            ]\n",
        "\n",
        "            print(*logs, sep=\"\\t\") # Print the logs\n",
        "\n",
        "    env.close()\n",
        "    eval_env.close()\n",
        "\n",
        "    return episode_returns, evaluator_episode_returns"
      ]
    },
    {
      "cell_type": "markdown",
      "metadata": {
        "id": "CTPlIq4oDBPY"
      },
      "source": [
        "##2. Случайный поиск политики (RPS)\n",
        "В разделе 1 мы использовали фиксированный набор параметров для нашей политики. То есть мы не изучали параметры $\\pi$ $\\theta$, мы просто сохранили их фиксированными ( `params = [1,-2,2,-1]`).\n",
        "\n",
        "Теперь мы реализуем случайный поиск политики (RPS), который представляет собой алгоритм, который случайным образом пробует различные параметры политики и отслеживает лучшие параметры, найденные на данный момент. Мы скажем, что параметры политики $\\theta_A$ лучше параметров $\\theta_B$, если средний возврат эпизода, достигнутый за последние 20 эпизодов политикой с параметрами $\\theta_A$, больше, чем у политики с параметрами $\\theta_B$.\n",
        "\n",
        "Чтобы отслеживать «текущие» параметры, а также «лучшие» параметры, мы будем использовать [NamedTuple](https://www.geeksforgeeks.org/namedtuple-in-python/)."
      ]
    },
    {
      "cell_type": "code",
      "execution_count": null,
      "metadata": {
        "id": "1DcaC-PQRjM1",
        "colab": {
          "base_uri": "https://localhost:8080/"
        },
        "outputId": "04da9a71-c08f-4509-e725-eb0b637c0aad"
      },
      "outputs": [
        {
          "output_type": "stream",
          "name": "stdout",
          "text": [
            "Best params: [0. 0. 0. 0.]\n",
            "Current params: [-1. -1. -1. -1.]\n"
          ]
        }
      ],
      "source": [
        "# Parameter container for Random Policy Search\n",
        "RandomPolicySearchParams = collections.namedtuple(\"RandomPolicySearchParams\", [\"current\", \"best\"])\n",
        "\n",
        "# TEST: store two different sets of parameters\n",
        "current_params = np.ones(obs_shape) * -1\n",
        "best_params = np.zeros(obs_shape)\n",
        "rps_params = RandomPolicySearchParams(current_params, best_params)\n",
        "\n",
        "# How to access the best or current params.\n",
        "print(f\"Best params: {rps_params.best}\")\n",
        "print(f\"Current params: {rps_params.current}\")"
      ]
    },
    {
      "cell_type": "markdown",
      "metadata": {
        "id": "v91pDDzGex9a"
      },
      "source": [
        "Далее мы реализуем следующее:\n",
        "- **Функция выбора действия RPS** - определяет, как мы выбираем действия с учетом набора параметров.\n",
        "- **Модуль памяти RPS** - определяет, какой опыт хранить из взаимодействий со средой.\n",
        "- **Функция обучения RPS** - определяет, как мы обновляем и улучшаем параметры нашей политики."
      ]
    },
    {
      "cell_type": "markdown",
      "metadata": {
        "id": "0tExceGeGNYH"
      },
      "source": [
        "### Функция выбора действия RPS\n",
        "Давайте реализуем функцию с именем `random_policy_search_choose_action`, которую мы можем передать в цикл обучения. Функция должна принимать несколько аргументов, чтобы она могла хорошо взаимодействовать с нашим обобщенным циклом обучения, но вам нужно будет использовать только три из них - `params`, `obs` и `evaluation`.\n",
        "\n",
        "- `params` - это экземпляр `RandomPolicySearchParams` с \"current\" и \"best\".\n",
        "- `obs` - это последнее наблюдение из среды.\n",
        "- `evaluation` - это логическое значение, которое указывает, следует ли нам использовать параметры \"current\" или \"best\". Когда `evaluation==True`, мы должны использовать параметры \"best\", в противном случае мы должны использовать параметры \"current\".\n",
        "\n",
        "**Упражнение 3:** Реализуйте функцию `random_policy_search_choose_action`, как описано выше. Вам следует использовать метод `linear_policy`, который мы определили ранее. Вам также понадобится `jax.lax.select()` для условного возврата \"лучшего\" действия или \"текущего\" действия."
      ]
    },
    {
      "cell_type": "code",
      "execution_count": null,
      "metadata": {
        "id": "1kmwT35JRjM1"
      },
      "outputs": [],
      "source": [
        "def random_policy_search_choose_action(\n",
        "    key,\n",
        "    params,\n",
        "    actor_state,\n",
        "    obs,\n",
        "    evaluation=False\n",
        "):\n",
        "  \"\"\"Random policy search select action method.\n",
        "\n",
        "  Args:\n",
        "    key: a random number (seed). Not used in this function.\n",
        "    params: the agent's parameters. In this case an instance of `RandomPolicySearchParams`\n",
        "    actor_state: some extra information about the actor. Not used in this function.\n",
        "    obs: the latest observation.\n",
        "    evaluation: a boolean indicating whether to use the best \"parameters\" or the \"current\" ones.\n",
        "\n",
        "  Returns:\n",
        "    The chosen action and the updated actor_state. In this function the actor_state is not updated.\n",
        "  \"\"\"\n",
        "\n",
        "  # YOUR CODE\n",
        "\n",
        "  best_action = linear_policy(params.best, obs)\n",
        "\n",
        "  current_action = linear_policy(params.current, obs)\n",
        "\n",
        "  action = jax.lax.select(\n",
        "      evaluation ,\n",
        "      best_action ,\n",
        "      current_action\n",
        "  )\n",
        "\n",
        "  # END YOUR CODE\n",
        "\n",
        "  return action, actor_state"
      ]
    },
    {
      "cell_type": "code",
      "source": [],
      "metadata": {
        "id": "ryeMu9lPIyJ8"
      },
      "execution_count": null,
      "outputs": []
    },
    {
      "cell_type": "code",
      "execution_count": null,
      "metadata": {
        "id": "YE4xoAgyI3kG",
        "colab": {
          "base_uri": "https://localhost:8080/"
        },
        "outputId": "d3071055-5843-4faf-cad8-72a8d6c008e8"
      },
      "outputs": [
        {
          "output_type": "stream",
          "name": "stdout",
          "text": [
            "Your function looks correct.\n"
          ]
        }
      ],
      "source": [
        "# @title Проверка упр 3 (run me) {display-mode: \"form\"}\n",
        "\n",
        "def check_random_policy_search_choose_action(choose_action):\n",
        "  key = None # not used\n",
        "  actor_state = None # not used\n",
        "\n",
        "  # obs\n",
        "  obs = np.ones(obs_shape)\n",
        "\n",
        "  evaluation=False\n",
        "  current_params = np.ones(obs_shape) * -1\n",
        "  best_params = np.ones(obs_shape)\n",
        "  rps_params = RandomPolicySearchParams(current_params, best_params)\n",
        "  action, actor_state = choose_action(key,rps_params,actor_state,obs,evaluation)\n",
        "  if action != 0:\n",
        "    return False\n",
        "\n",
        "  evaluation=True\n",
        "  current_params = np.ones(obs_shape) * -1\n",
        "  best_params = np.ones(obs_shape)\n",
        "  rps_params = RandomPolicySearchParams(current_params, best_params)\n",
        "  action, actor_state = choose_action(key,rps_params,actor_state,obs,evaluation)\n",
        "  if action != 1:\n",
        "    return False\n",
        "\n",
        "  return True\n",
        "\n",
        "try:\n",
        "  if check_random_policy_search_choose_action(random_policy_search_choose_action):\n",
        "    print(\"Your function looks correct.\")\n",
        "  else:\n",
        "    print(\"Your function looks incorrect.\")\n",
        "except Exception as e:\n",
        "    print(\"An Error Occured: {}\".format(e))"
      ]
    },
    {
      "cell_type": "markdown",
      "metadata": {
        "id": "6zu51ep7Sh0M"
      },
      "source": [
        "### Память агента RPS\n",
        "\n",
        "Для алгоритма поиска случайной политики нам нужно будет отслеживать средний возврат эпизода для последних 50 эпизодов. Помните, что мы сказали, что «текущие» параметры будут считаться «лучшими» параметрами, если средний возврат эпизода при использовании этих параметров больше предыдущего лучшего среднего возврата эпизода.\n",
        "\n",
        "Мы будем использовать интерфейс памяти общего назначения, который довольно прост. Модуль памяти должен иметь три метода. Первый — это функция `memory.push(<transition>)`, которая добавляет некоторую информацию о последнем переходе среды в память. Второй — это функция `memory.is_ready()`, которая проверяет, готова ли память к обучению. Наконец, функция `memory.sample()` должна возвращать последний набор воспоминаний, которые можно передать в `agent_learn_func`.\n",
        "\n",
        "#### Память среднего возврата эпизода\n",
        "Мы создали для вас простой модуль памяти агента. Он хранит `epsisode_returns` последних 20 эпизодов. Прочитайте нашу реализацию ниже и посмотрите, сможете ли вы ее понять. Метод `memory.sample()` возвращает средний возврат эпизода за последние 20 эпизодов."
      ]
    },
    {
      "cell_type": "code",
      "execution_count": null,
      "metadata": {
        "id": "YVkTBIK5RjM1"
      },
      "outputs": [],
      "source": [
        "class AverageEpisodeReturnBuffer:\n",
        "\n",
        "    def __init__(self, num_episodes_to_store=50):\n",
        "        \"\"\"\n",
        "        This class implements an agent memory that stores the average episode\n",
        "        return over the last 50 episodes.\n",
        "        \"\"\"\n",
        "        self.num_episodes_to_store = num_episodes_to_store\n",
        "        self.episode_return_buffer = []\n",
        "        self.current_episode_return = 0\n",
        "\n",
        "    def push(self, transition):\n",
        "        self.current_episode_return += transition.reward\n",
        "\n",
        "        if transition.done: # If the episode is done\n",
        "            # Add episode return to buffer\n",
        "            self.episode_return_buffer.append(self.current_episode_return)\n",
        "\n",
        "            # Reset episode return\n",
        "            self.current_episode_return = 0\n",
        "\n",
        "\n",
        "    def is_ready(self):\n",
        "        return len(self.episode_return_buffer) == self.num_episodes_to_store\n",
        "\n",
        "    def sample(self):\n",
        "        average_episode_return = np.mean(self.episode_return_buffer)\n",
        "\n",
        "        # Clear episode return buffer\n",
        "        self.episode_return_buffer = []\n",
        "\n",
        "        return average_episode_return"
      ]
    },
    {
      "cell_type": "markdown",
      "metadata": {
        "id": "0oXBsSa2KjWE"
      },
      "source": [
        "### Функция обучения RPS\n",
        "Наконец, нам нужно реализовать функцию `random_policy_search_learn` для нашего алгоритма поиска случайной политики. Функция обучения довольно проста. Все, что нам нужно сделать, это проверить, лучше ли текущие параметры, чем лучшие параметры. Если они лучше, то установите лучшие параметры в качестве текущих параметров и случайным образом сгенерируйте новый набор текущих параметров.\n",
        "\n",
        "**Упражнение 4:** Напишите функцию для случайной генерации новых весов с использованием JAX. Веса должны быть выбраны из интервала `[-2,2]`.\n",
        "\n",
        "**Полезные функции:**\n",
        "*   `jax.random.uniform` ([docs](https://jax.readthedocs.io/en/latest/_autosummary/jax.random.uniform.html#jax.random.uniform))\n",
        "\n"
      ]
    },
    {
      "cell_type": "code",
      "execution_count": null,
      "metadata": {
        "id": "8V2yFM2XMjGW"
      },
      "outputs": [],
      "source": [
        "def get_new_random_weights(random_key, old_weights, minval=-2.0, maxval=2.0):\n",
        "    new_weights_shape = old_weights.shape # you will need to use these values\n",
        "    new_weights_dtype = old_weights.dtype # you will need to use these values\n",
        "\n",
        "    # YOUR CODE\n",
        "\n",
        "    new_params = jax.random.uniform(random_key, new_weights_shape, new_weights_dtype, minval, maxval)\n",
        "    # END YOUR CODE\n",
        "\n",
        "    return new_params"
      ]
    },
    {
      "cell_type": "code",
      "execution_count": null,
      "metadata": {
        "id": "T8ifHTKGQlAd",
        "colab": {
          "base_uri": "https://localhost:8080/"
        },
        "outputId": "fb071e39-e65a-4e57-c18d-8b32b5f5d3f5"
      },
      "outputs": [
        {
          "output_type": "stream",
          "name": "stdout",
          "text": [
            "Function is correct!\n"
          ]
        }
      ],
      "source": [
        "# @title Проверка упр 4 (run me) {display-mode: \"form\"}\n",
        "\n",
        "def check_get_new_random_weights(get_new_random_weights):\n",
        "  old_weights = np.ones(obs_shape, \"float32\")\n",
        "  random_key = jax.random.PRNGKey(42)\n",
        "\n",
        "  # Case 1\n",
        "  new_weights = get_new_random_weights(random_key, old_weights, minval=-2.0, maxval=2.0)\n",
        "\n",
        "  if jnp.array_equal(new_weights, jnp.array([ 0.29657745,1.4265499, -1.7621555, -1.7505779 ])):\n",
        "    print(\"Function is correct!\")\n",
        "  else:\n",
        "    print(\"Something is wrong.\")\n",
        "\n",
        "try:\n",
        "  check_get_new_random_weights(get_new_random_weights)\n",
        "except Exception as e:\n",
        "    print(\"An Error Occured: {}\".format(e))"
      ]
    },
    {
      "cell_type": "markdown",
      "metadata": {
        "id": "2Djxc9j-LzkM"
      },
      "source": [
        "Наша функция обучения получает память в форме среднего возврата эпизода из `AverageEpisodeReturnMemory`, которую мы реализовали ранее. Мы можем использовать это для сравнения текущих параметров с лучшими параметрами. Но нам также нужно будет отслеживать лучший средний возврат эпизода для функции обучения. Для этого мы можем использовать аргумент `learn_state`, который передается в `agent_learn_func` в нашем цикле обучения. Как и в случае с `RandomPolicySearchParams`, мы будем использовать NamedTuple для хранения `best_average_episode_return` в `learn_state`."
      ]
    },
    {
      "cell_type": "code",
      "execution_count": null,
      "metadata": {
        "id": "4cSH4uYmRjM2",
        "colab": {
          "base_uri": "https://localhost:8080/"
        },
        "outputId": "43f3051d-7882-4f7f-e59d-e1e18df9176c"
      },
      "outputs": [
        {
          "output_type": "stream",
          "name": "stdout",
          "text": [
            "Initial best average episode return: -inf\n"
          ]
        }
      ],
      "source": [
        "# A NamedTuple to store the best average episode return so far\n",
        "RandomPolicyLearnState = collections.namedtuple(\n",
        "  \"RandomPolicyLearnState\",\n",
        "  [\"best_average_episode_return\"]\n",
        ")\n",
        "\n",
        "# Test\n",
        "initial_learn_state = RandomPolicyLearnState(best_average_episode_return=-float(\"inf\"))\n",
        "print(\"Initial best average episode return:\", initial_learn_state.best_average_episode_return)"
      ]
    },
    {
      "cell_type": "markdown",
      "metadata": {
        "id": "PxZXdP8bOu6b"
      },
      "source": [
        "Теперь у нас есть все необходимое для реализации функции `random_policy_search_learn`.\n",
        "\n",
        "**Упражнение 5:** Реализуйте функцию `random_policy_search_learn`. Функция должна проверять, лучше ли «текущие» параметры, чем «лучшие» параметры, сравнивая `current_average_episode_return` с `best_average_episode_return`. Функция также должна обновлять `learn_state`."
      ]
    },
    {
      "cell_type": "code",
      "execution_count": null,
      "metadata": {
        "id": "Te_Q3qzmZcN_"
      },
      "outputs": [],
      "source": [
        "def random_policy_search_learn(key, params, learn_state, memory):\n",
        "    best_params = params.best\n",
        "    current_params = params.current\n",
        "\n",
        "    current_average_episode_return = memory # the memory contains the average episode return\n",
        "    best_average_episode_return = learn_state.best_average_episode_return\n",
        "\n",
        "\n",
        "    # YOUR CODE\n",
        "\n",
        "    best_params = jax.lax.select(\n",
        "        best_average_episode_return < current_average_episode_return,\n",
        "        current_params,\n",
        "        best_params\n",
        "    )\n",
        "\n",
        "    best_average_episode_return = jax.lax.select(\n",
        "        best_average_episode_return < current_average_episode_return,\n",
        "        current_average_episode_return ,\n",
        "        best_average_episode_return\n",
        "    )\n",
        "\n",
        "    # END YOUR CODE\n",
        "\n",
        "    # Generate new random parameters\n",
        "    new_params = get_new_random_weights(key, current_params)\n",
        "\n",
        "    # Bundle weights in RandomPolicySearchParams NamedTuple\n",
        "    params = RandomPolicySearchParams(current=new_params, best=best_params)\n",
        "    learn_state = RandomPolicyLearnState(best_average_episode_return)\n",
        "    return params, learn_state"
      ]
    },
    {
      "cell_type": "code",
      "execution_count": null,
      "metadata": {
        "id": "CXHV4k2iBLBF",
        "colab": {
          "base_uri": "https://localhost:8080/"
        },
        "outputId": "9790ed89-d512-477a-9bca-858183827e2f"
      },
      "outputs": [
        {
          "output_type": "stream",
          "name": "stdout",
          "text": [
            "Your function looks correct.\n"
          ]
        }
      ],
      "source": [
        "#@title Проверка упр 5 {display-mode: \"form\"}\n",
        "\n",
        "params = RandomPolicySearchParams(np.ones(obs_shape, \"float32\"), np.ones(obs_shape, \"float32\") * -1)\n",
        "learn_state = RandomPolicyLearnState(10)\n",
        "memory = 11\n",
        "key = jax.random.PRNGKey(42)\n",
        "\n",
        "try:\n",
        "  new_params, new_learn_state = random_policy_search_learn(key, params, learn_state, memory)\n",
        "\n",
        "  if not jnp.array_equal(new_params.current, jnp.array([ 0.29657745,  1.4265499 , -1.7621555 , -1.7505779 ])):\n",
        "    print(\"Your function is incorrect.\")\n",
        "\n",
        "  elif not jnp.array_equal(new_params.best, jnp.array([1., 1., 1., 1.])):\n",
        "    print(\"Your function is incorrect.\")\n",
        "\n",
        "  elif new_learn_state.best_average_episode_return != 11:\n",
        "    print(\"Your function is incorrect.\")\n",
        "\n",
        "  else:\n",
        "    print(\"Your function looks correct.\")\n",
        "except Exception as e:\n",
        "    print(\"An Error Occured: {}\".format(e))"
      ]
    },
    {
      "cell_type": "markdown",
      "metadata": {
        "id": "5Ol_AxnMBdgP"
      },
      "source": [
        "### Цикл обучения RPS\n",
        "Теперь мы можем собрать все вместе, передав модуль `memory`, функцию `learn` и функцию `choose_action` в цикл обучения. Чтобы ускорить наш алгоритм, мы будем использовать `jax.jit` в функции `learn` и функции `choose_action`."
      ]
    },
    {
      "cell_type": "code",
      "execution_count": null,
      "metadata": {
        "id": "Qx57tf7vRjM3",
        "colab": {
          "base_uri": "https://localhost:8080/",
          "height": 700
        },
        "outputId": "1e5078f4-348f-4f9b-9db5-f272591e1bb2"
      },
      "outputs": [
        {
          "output_type": "stream",
          "name": "stdout",
          "text": [
            "Starting training. This may take up to 5 minutes to complete.\n",
            "Episode: 0\tEpisode Return: 80.0\tAverage Episode Return: 80.0\tEvaluator Episode Return: 146.5\n",
            "Episode: 100\tEpisode Return: 8.0\tAverage Episode Return: 8.75\tEvaluator Episode Return: 151.5\n",
            "Episode: 200\tEpisode Return: 9.0\tAverage Episode Return: 126.15\tEvaluator Episode Return: 135.0\n",
            "Episode: 300\tEpisode Return: 9.0\tAverage Episode Return: 36.0\tEvaluator Episode Return: 149.25\n",
            "Episode: 400\tEpisode Return: 9.0\tAverage Episode Return: 87.8\tEvaluator Episode Return: 139.25\n",
            "Episode: 500\tEpisode Return: 10.0\tAverage Episode Return: 8.8\tEvaluator Episode Return: 137.0\n",
            "Episode: 600\tEpisode Return: 193.0\tAverage Episode Return: 19.05\tEvaluator Episode Return: 119.625\n",
            "Episode: 700\tEpisode Return: 10.0\tAverage Episode Return: 122.05\tEvaluator Episode Return: 176.125\n",
            "Episode: 800\tEpisode Return: 27.0\tAverage Episode Return: 100.0\tEvaluator Episode Return: 154.875\n",
            "Episode: 900\tEpisode Return: 9.0\tAverage Episode Return: 9.0\tEvaluator Episode Return: 182.25\n",
            "Episode: 1000\tEpisode Return: 9.0\tAverage Episode Return: 9.0\tEvaluator Episode Return: 142.875\n"
          ]
        },
        {
          "output_type": "display_data",
          "data": {
            "text/plain": [
              "<Figure size 640x480 with 1 Axes>"
            ],
            "image/png": "[encoded data removed]"
          },
          "metadata": {}
        }
      ],
      "source": [
        "# JIT the learn and choose action functions\n",
        "random_policy_search_learn_jit = jax.jit(random_policy_search_learn)\n",
        "random_policy_search_choose_action_jit = jax.jit(random_policy_search_choose_action)\n",
        "\n",
        "# Initialise the parameters\n",
        "initial_weights = np.ones(obs_shape, \"float32\")\n",
        "initial_params = RandomPolicySearchParams(initial_weights, initial_weights)\n",
        "\n",
        "# Initialise the learn state\n",
        "initial_learn_state = RandomPolicyLearnState(best_average_episode_return=-float(\"inf\"))\n",
        "\n",
        "# Initialise memory\n",
        "memory = AverageEpisodeReturnBuffer(num_episodes_to_store=50)\n",
        "\n",
        "# Run the training loop\n",
        "print(\"Starting training. This may take up to 5 minutes to complete.\")\n",
        "chex.clear_trace_counter()\n",
        "episode_return, evaluator_episode_returns = run_training_loop(\n",
        "                                        env_name,\n",
        "                                        initial_params,\n",
        "                                        random_policy_search_choose_action_jit,\n",
        "                                        None, # no actor state\n",
        "                                        random_policy_search_learn_jit,\n",
        "                                        initial_learn_state,\n",
        "                                        memory,\n",
        "                                        num_episodes=1001,\n",
        "                                        video_subdir=\"rps\"\n",
        "                                    )\n",
        "\n",
        "# Plot graph of evaluator episode returns\n",
        "plt.plot(np.linspace(0, 1000, len(evaluator_episode_returns)), evaluator_episode_returns)\n",
        "plt.title(\"Random Policy Search\")\n",
        "plt.xlabel(\"Episodes\")\n",
        "plt.ylabel(\"Episode Return\")\n",
        "plt.show()"
      ]
    },
    {
      "cell_type": "markdown",
      "metadata": {
        "id": "TG10FG6uS05A"
      },
      "source": [
        "Надеюсь, вы нашли набор оптимальных параметров на CartPole (возврат эпизода достигает `200`). В ячейке ниже вы можете посмотреть несколько видеороликов агента, выполняющего задание."
      ]
    },
    {
      "cell_type": "code",
      "execution_count": null,
      "metadata": {
        "id": "KgayDJ7KWC4C",
        "colab": {
          "base_uri": "https://localhost:8080/",
          "height": 288
        },
        "outputId": "a5daa5d0-eced-412c-8bee-fd6112e1dec7"
      },
      "outputs": [
        {
          "output_type": "execute_result",
          "data": {
            "text/plain": [
              "<IPython.core.display.HTML object>"
            ],
            "text/html": [
              "\n",
              "<video width=400 controls>\n",
              "      <source src=\"data:video/mp4;base64,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\" type=\"video/mp4\">\n",
              "</video>\n"
            ]
          },
          "metadata": {},
          "execution_count": 23
        }
      ],
      "source": [
        "#@title Visualise Policy {display-mode: \"form\"}\n",
        "#@markdown Choose an episode number that is a multiple of 100 and less than or equal to 2000, and **run** this cell.\n",
        "episode_number = 500 #@param {type:\"number\"}\n",
        "\n",
        "assert (episode_number % 100) == 0, \"Episode number must be a multiple of 100 since we only record every 100th episode.\"\n",
        "assert episode_number < 1001, \"Episode number must be less than or equal to 2000\"\n",
        "\n",
        "eval_episode_number = int(episode_number / 100 * 8)\n",
        "video_path = f\"./video/rps/eval/rl-video-episode-{eval_episode_number}.mp4\"\n",
        "\n",
        "mp4 = open(video_path,'rb').read()\n",
        "data_url = \"data:video/mp4;base64,\" + b64encode(mp4).decode()\n",
        "HTML(\"\"\"\n",
        "<video width=400 controls>\n",
        "      <source src=\"%s\" type=\"video/mp4\">\n",
        "</video>\n",
        "\"\"\" % data_url)"
      ]
    },
    {
      "cell_type": "markdown",
      "metadata": {
        "id": "Xwf1IKKbrrVn"
      },
      "source": [
        "Итак, случайный поиск политики справился с этой задачей довольно хорошо. Однако здесь происходит очень мало (если вообще происходит) реального *обучения*. Далее давайте рассмотрим реализацию простого алгоритма RL, который может использовать свой опыт для руководства нашим поиском оптимальной политики, а не просто искать ее случайным образом."
      ]
    },
    {
      "cell_type": "markdown",
      "metadata": {
        "id": "XEnSjZVESrxc"
      },
      "source": [
        "## 3. Градиенты политики  (Policy Gradients, PG)\n",
        "Как обсуждалось, цель RL — найти политику, которая максимизирует ожидаемое совокупное вознаграждение (возврат), которое агент получает от среды. Мы можем записать ожидаемый возврат политики как:\n",
        "\n",
        "$J(\\pi_\\theta)=\\mathrm{E}_{\\tau\\sim\\pi_\\theta}\\ [R(\\tau)]$,\n",
        "\n",
        "где $\\pi_\\theta$ — это политика, параметризованная $\\theta$, $\\mathrm{E}$ означает *ожидание*, $\\tau$ — это сокращение для \"*эпизод*\", $\\tau\\sim\\pi_\\theta$ — это сокращение для \"*эпизоды, выбранные с использованием политики* $\\pi_\\theta$\", а $R(\\tau)$ — это возврат эпизода $\\tau$.\n",
        "\n",
        "Затем, цель в RL — найти параметры $\\theta$, которые максимизируют функцию $J(\\pi_\\theta)$. Один из способов найти эти параметры — выполнить градиентный подъем по $J(\\pi_\\theta)$ относительно параметров $\\theta$:\n",
        "\n",
        "$\\theta_{k+1}=\\theta_k + \\alpha \\nabla J(\\pi_\\theta)|_{\\theta_{k}}$,\n",
        "\n",
        "где $\\nabla J(\\pi_\\theta)|_{\\theta_{k}}$ — градиент ожидаемой доходности относительно параметров политики $\\theta_k$, а $\\alpha$ — размер шага. Эта величина, $\\nabla J(\\pi_\\theta)$, также называется **градиентом политики** и очень важна в RL. Если мы сможем вычислить градиент политики, то у нас будет средство, с помощью которого можно напрямую оптимизировать нашу политику.\n",
        "\n",
        "Как оказалось, у нас есть способ вычислить градиент политики, и математический вывод можно найти [здесь](https://spinningup.openai.com/en/latest/spinningup/rl_intro3.html). Но для этого руководства мы опустим вывод и просто дадим вам результат:\n",
        "\n",
        "$\\nabla_{\\theta} J(\\pi_{\\theta})=\\underset{\\tau \\sim \\pi_{\\theta}}{\\mathrm{E}}[\\sum_{t=0}^{T} \\nabla_{\\theta} \\log \\pi_{\\theta}(a_{t} \\mid s_{t}) R(\\tau)]$\n",
        "\n",
        "Неформально, градиент политики равен градиенту логарифма вероятности выбранного действия, умноженного на возврат эпизода, в котором было предпринято действие.\n"
      ]
    },
    {
      "cell_type": "markdown",
      "metadata": {
        "id": "BTnTzgtSuy-y"
      },
      "source": [
        "### REINFORCE\n",
        "REINFORCE — это простой алгоритм RL, который использует градиент политики для поиска оптимальной политики путем увеличения вероятности выбора действий (усиливающих действий), которые, как правило, приводят к эпизодам с высокой отдачей.\n",
        "\n",
        "**Упражнение 6:** Реализуйте функцию, которая берет вероятность действия и отдачу эпизода, в котором действие было предпринято, и вычисляет логарифм вероятности, умноженный на отдачу. Убедитесь, что вы используете JAX.\n",
        "\n",
        "**Полезные функции:**\n",
        "*   `jax.numpy.log`([docs](https://jax.readthedocs.io/en/latest/_autosummary/jax.numpy.log.html))"
      ]
    },
    {
      "cell_type": "code",
      "execution_count": null,
      "metadata": {
        "id": "bJObUsoUrOyV"
      },
      "outputs": [],
      "source": [
        "def compute_weighted_log_prob(action_prob, episode_return):\n",
        "\n",
        "    # YOUR CODE\n",
        "\n",
        "    log_prob = jax.numpy.log(action_prob)\n",
        "\n",
        "    weighted_log_prob = log_prob * episode_return\n",
        "\n",
        "    # END YOUR CODE\n",
        "\n",
        "    return weighted_log_prob"
      ]
    },
    {
      "cell_type": "code",
      "execution_count": null,
      "metadata": {
        "id": "eZPoTwa1Gbm1",
        "colab": {
          "base_uri": "https://localhost:8080/"
        },
        "outputId": "f9913e31-25ce-4d17-da93-626775cbebeb"
      },
      "outputs": [
        {
          "output_type": "stream",
          "name": "stdout",
          "text": [
            "Looks correct.\n"
          ]
        }
      ],
      "source": [
        "#@title Проверка упр 6 {display-mode: \"form\"}\n",
        "\n",
        "try:\n",
        "  action_prob = 0.8\n",
        "  episode_return = 100\n",
        "  result = compute_weighted_log_prob(action_prob, episode_return)\n",
        "  if result != -22.314354:\n",
        "    print(\"Your implementation looks incorrect.\")\n",
        "  else:\n",
        "    print(\"Looks correct.\")\n",
        "except Exception as e:\n",
        "    print(\"An Error Occured: {}\".format(e))"
      ]
    },
    {
      "cell_type": "markdown",
      "metadata": {
        "id": "NmgW9UJ3tIpl"
      },
      "source": [
        "### Rewards-to-go\n",
        "Выполнение градиентного подъема по градиенту логарифма вероятности действия, взвешенного по возврату эпизода, будет иметь тенденцию повышать вероятность действий, которые были в эпизодах с высоким возвратом, независимо от того, *где* в эпизоде ​​было выполнено действие. Это на самом деле не имеет большого смысла, потому что действие ближе к концу эпизода может быть подкреплено, потому что много вознаграждения было собрано ранее в эпизоде, *до* того, как было выполнено действие. Агенты RL должны на самом деле подкреплять действия только на основе их *последствий*. Вознаграждения, полученные до выполнения действия, не влияют на то, насколько хорошим было это действие: только вознаграждения, которые приходят после. Накопленные вознаграждения, полученные после выполнения действия, называются **вознаграждениями-к-переходу** и могут быть вычислены как:\n",
        "\n",
        "$\\hat{R}_i=\\sum_{t=i}^Tr_t$\n",
        "\n",
        "Сравните это с доходностью эпизода:\n",
        "\n",
        "$R(\\tau)=\\sum_{t=0}^Tr_t$\n",
        "\n",
        "Мы можем повысить надежность градиента политики, заменив доходность эпизода на вознаграждения-к-переходу. Градиент политики с оставшимися наградами задается следующим образом:\n",
        "\n",
        "$\\nabla_{\\theta} J(\\pi_{\\theta})=\\underset{\\tau \\sim \\pi_{\\theta}}{\\mathrm{E}}[\\sum_{t=0}^{T} \\nabla_{\\theta} \\log \\pi_{\\theta}(a_{t} \\mid s_{t}) \\hat{R}_t]$\n",
        "\n",
        "**Упражнение 7:** Реализуйте функцию, которая берет список всех наград, полученных в эпизоде, и вычисляет оставшиеся награды. Не беспокойтесь об использовании JAX в этой функции. Вы можете использовать обычные операции Python, такие как `for-loops`."
      ]
    },
    {
      "cell_type": "code",
      "execution_count": null,
      "metadata": {
        "id": "nV1Hww8E3dUJ"
      },
      "outputs": [],
      "source": [
        "def compute_rewards_to_go(rewards):\n",
        "    \"\"\"\n",
        "    This function should take a list of rewards as input and\n",
        "    compute the rewards-to-go for each timestep.\n",
        "\n",
        "    EXAMPLE: compute_rewards_to_go([1,2,3,4]) = [10, 9, 7, 4]\n",
        "\n",
        "    Arguments:\n",
        "        rewards[t] is the reward at time step t.\n",
        "\n",
        "    Returns:\n",
        "        rewards_to_go[t] should be the reward-to-go at timestep t.\n",
        "    \"\"\"\n",
        "\n",
        "    rewards_to_go = []\n",
        "    # YOUR CODE\n",
        "    sum_revards = sum(rewards)\n",
        "    for i in rewards:\n",
        "      rewards_to_go.append(sum_revards)\n",
        "      sum_revards -= i\n",
        "    # END YOUR CODE\n",
        "\n",
        "    return rewards_to_go"
      ]
    },
    {
      "cell_type": "code",
      "execution_count": null,
      "metadata": {
        "id": "hLVaVRp28YGI",
        "colab": {
          "base_uri": "https://localhost:8080/"
        },
        "outputId": "729d98eb-382f-4111-f048-7894fdd1f25c"
      },
      "outputs": [
        {
          "output_type": "stream",
          "name": "stdout",
          "text": [
            "Looks correct.\n"
          ]
        }
      ],
      "source": [
        "#@title Проверка упр 7 {display-mode: \"form\"}\n",
        "\n",
        "try:\n",
        "  result = compute_rewards_to_go([1,2,3,4])\n",
        "\n",
        "  if result != [10, 9, 7, 4]:\n",
        "    print(\"There is a problem with your implementation.\")\n",
        "  else:\n",
        "    print(\"Looks correct.\")\n",
        "except Exception as e:\n",
        "    print(\"An Error Occured: {}\".format(e))\n"
      ]
    },
    {
      "cell_type": "markdown",
      "metadata": {
        "id": "IboxN9MS65i5"
      },
      "source": [
        "### REINFORCE memory\n",
        "Далее нам нужно будет создать новую память агента для хранения вознаграждений $\\hat{R}_t$ вместе с наблюдением $o_t$ и действием $a_t$ на каждом временном шаге. Ниже мы реализовали такой модуль памяти для вас. Функция `memory.sample()` вернет пакет из последних 500 воспоминаний. Вы можете прочитать код, чтобы попытаться понять его, но это не обязательно. Поэтому мы скрываем код по умолчанию."
      ]
    },
    {
      "cell_type": "code",
      "execution_count": null,
      "metadata": {
        "id": "xhS4V6auRjM3"
      },
      "outputs": [],
      "source": [
        "# @title Реализация памяти (run me) {display-mode: \"form\"}\n",
        "\n",
        "# NamedTuple to store memory\n",
        "EpisodeRewardsToGoMemory = collections.namedtuple(\"EpisodeRewardsToGoMemory\", [\"obs\", \"action\", \"reward_to_go\"])\n",
        "\n",
        "class EpisodeRewardsToGoBuffer:\n",
        "\n",
        "    def __init__(self, num_transitions_to_store=512, batch_size=256):\n",
        "        self.batch_size = batch_size\n",
        "        self.memory_buffer = collections.deque(maxlen=num_transitions_to_store)\n",
        "        self.current_episode_transition_buffer = []\n",
        "\n",
        "    def push(self, transition):\n",
        "        self.current_episode_transition_buffer.append(transition)\n",
        "\n",
        "        if transition.done:\n",
        "\n",
        "            episode_rewards = []\n",
        "            for t in self.current_episode_transition_buffer:\n",
        "                episode_rewards.append(t.reward)\n",
        "\n",
        "            r2g = compute_rewards_to_go(episode_rewards)\n",
        "\n",
        "            for i, t in enumerate(self.current_episode_transition_buffer):\n",
        "                memory = EpisodeRewardsToGoMemory(t.obs, t.action, r2g[i])\n",
        "                self.memory_buffer.append(memory)\n",
        "\n",
        "            # Reset episode buffer\n",
        "            self.current_episode_transition_buffer = []\n",
        "\n",
        "\n",
        "    def is_ready(self):\n",
        "        return len(self.memory_buffer) >= self.batch_size\n",
        "\n",
        "    def sample(self):\n",
        "        random_memory_sample = random.sample(self.memory_buffer, self.batch_size)\n",
        "\n",
        "        obs_batch, action_batch, reward_to_go_batch = zip(*random_memory_sample)\n",
        "\n",
        "        return EpisodeRewardsToGoMemory(\n",
        "            np.stack(obs_batch).astype(\"float32\"),\n",
        "            np.asarray(action_batch).astype(\"int32\"),\n",
        "            np.asarray(reward_to_go_batch).astype(\"int32\")\n",
        "        )\n",
        "\n",
        "\n",
        "# Instantiate Memory\n",
        "REINFORCE_memory = EpisodeRewardsToGoBuffer(num_transitions_to_store=512, batch_size=256)"
      ]
    },
    {
      "cell_type": "markdown",
      "metadata": {
        "id": "Idkav_aSYXvz"
      },
      "source": [
        "### Policy neural network\n",
        "Далее мы будем использовать простую нейронную сеть для аппроксимации политики. Наша нейронная сеть политики будет иметь входной слой, который принимает наблюдение в качестве входных данных и пропускает его через два скрытых слоя, а затем выводит одно скалярное значение для каждого из возможных действий. Таким образом, в CartPole выходной слой будет иметь размер `2`.\n",
        "\n",
        "[Haiku](https://github.com/deepmind/dm-haiku) — это библиотека для реализации нейронных сетей в JAX. Ниже мы реализовали простую функцию для создания сети политики для вас.\n"
      ]
    },
    {
      "cell_type": "code",
      "execution_count": null,
      "metadata": {
        "id": "j2XO7VkORjM4"
      },
      "outputs": [],
      "source": [
        "def make_policy_network(num_actions: int, layers=[20, 20]) -> hk.Transformed:\n",
        "  \"\"\"Factory for a simple MLP network for the policy.\"\"\"\n",
        "\n",
        "  def policy_network(obs):\n",
        "    network = hk.Sequential(\n",
        "        [\n",
        "            hk.Flatten(),\n",
        "            hk.nets.MLP(layers + [num_actions])\n",
        "        ]\n",
        "    )\n",
        "    return network(obs)\n",
        "\n",
        "  return hk.without_apply_rng(hk.transform(policy_network))"
      ]
    },
    {
      "cell_type": "markdown",
      "metadata": {
        "id": "1GR2y8FjaG-G"
      },
      "source": [
        "У сетей Haiku есть две важные функции, о которых вам нужно знать. Первая — `network.init(<random_key>, <input>)`, которая возвращает набор случайных начальных параметров. Второй метод — `network.apply(<params>, <input>)`, который передает входные данные через сеть, используя предоставленный набор параметров."
      ]
    },
    {
      "cell_type": "code",
      "execution_count": null,
      "metadata": {
        "id": "fJrn9o-Vatkw",
        "colab": {
          "base_uri": "https://localhost:8080/"
        },
        "outputId": "397a3681-0b8b-447f-f15c-a02b2c7995ed"
      },
      "outputs": [
        {
          "output_type": "stream",
          "name": "stdout",
          "text": [
            "Initial params: dict_keys(['mlp/~/linear_0', 'mlp/~/linear_1', 'mlp/~/linear_2'])\n",
            "Policy network output: [ 0.91155875 -0.3961737 ]\n"
          ]
        }
      ],
      "source": [
        "# Example\n",
        "POLICY_NETWORK = make_policy_network(num_actions=num_actions, layers=[20,20])\n",
        "random_key = jax.random.PRNGKey(42) # random key\n",
        "dummy_obs = np.ones(obs_shape, \"float32\")\n",
        "\n",
        "# Initialise parameters\n",
        "REINFORCE_params = POLICY_NETWORK.init(random_key, dummy_obs)\n",
        "print(\"Initial params:\", REINFORCE_params.keys())\n",
        "\n",
        "# Pass input through the network\n",
        "output = POLICY_NETWORK.apply(REINFORCE_params, dummy_obs)\n",
        "print(\"Policy network output:\", output)\n"
      ]
    },
    {
      "cell_type": "markdown",
      "metadata": {
        "id": "MlouUBvoeunz"
      },
      "source": [
        "Выходы нашей сети политик — [логиты](https://qr.ae/pv4YTe). Чтобы преобразовать это в распределение вероятностей по действиям, мы передаем логиты в функцию [softmax](https://en.wikipedia.org/wiki/Softmax_function).\n",
        "\n",
        "### УСИЛЕНИЕ выбор функции действия\n",
        "\n",
        "**Упражнение 8:** Завершите функцию ниже, которая берет вектор логитов и случайным образом выбирает действие из категориального распределения, заданного логитами.\n",
        "\n",
        "**Полезные функции:**\n",
        "*   `jax.random.categorical`([docs](https://jax.readthedocs.io/en/latest/_autosummary/jax.random.categorical.html#jax.random.categorical))"
      ]
    },
    {
      "cell_type": "code",
      "execution_count": null,
      "metadata": {
        "id": "m3Z8DxUmeOGJ"
      },
      "outputs": [],
      "source": [
        "def sample_action(random_key, logits):\n",
        "\n",
        "  # YOUR CODE HERE\n",
        "  action = jax.random.categorical(random_key, logits)\n",
        "\n",
        "  # END YOUR code\n",
        "\n",
        "  return action"
      ]
    },
    {
      "cell_type": "code",
      "execution_count": null,
      "metadata": {
        "id": "5opHJMO0D_Ub",
        "colab": {
          "base_uri": "https://localhost:8080/"
        },
        "outputId": "a2dfe387-c2fa-4840-832a-6884d7f49550"
      },
      "outputs": [
        {
          "output_type": "stream",
          "name": "stdout",
          "text": [
            "Seems correct.\n"
          ]
        }
      ],
      "source": [
        "#@title Проверка упр 8 {display-mode: \"form\"}\n",
        "\n",
        "try:\n",
        "  random_key = jax.random.PRNGKey(42) # random key\n",
        "  action = sample_action(random_key, np.array([1,2], \"float32\"))\n",
        "  if action != 1:\n",
        "    print(\"Your function is incorrect.\")\n",
        "  else:\n",
        "    print(\"Seems correct.\")\n",
        "except Exception as e:\n",
        "    print(\"An Error Occured: {}\".format(e))"
      ]
    },
    {
      "cell_type": "markdown",
      "metadata": {
        "id": "jP5UH87VRjM4"
      },
      "source": [
        "Теперь мы можем реализовать функцию `REINFORCE_choose_action`. Мы передадим наблюдение через сеть политики для вычисления логитов, а затем передадим логиты в функцию `sample_action` для выбора и действия."
      ]
    },
    {
      "cell_type": "code",
      "execution_count": null,
      "metadata": {
        "id": "UJTzrDAZ0Ul5"
      },
      "outputs": [],
      "source": [
        "def REINFORCE_choose_action(key, params, actor_state, obs, evaluation=False):\n",
        "  obs = jnp.expand_dims(obs, axis=0) # add dummy batch dim before passing through network\n",
        "\n",
        "  # Pass obs through policy network to compute logits\n",
        "  logits = POLICY_NETWORK.apply(params, obs)\n",
        "  logits = logits[0] # remove batch dim\n",
        "\n",
        "  # Randomly sample action\n",
        "  sampled_action = sample_action(key, logits)\n",
        "\n",
        "  return sampled_action, actor_state"
      ]
    },
    {
      "cell_type": "markdown",
      "metadata": {
        "id": "NI26SLAb7iRo"
      },
      "source": [
        "Теперь, когда мы реализовали функцию `REINFORCE_choose_action`, нам осталось только создать функцию `REINFORCE_learn`. Функция обучения должна использовать функцию `weighted_log_prob`, которую мы создали ранее, чтобы вычислить потери градиента политики и применить обновления градиента к нашей нейронной сети."
      ]
    },
    {
      "cell_type": "markdown",
      "metadata": {
        "id": "36ALCJESQJ8e"
      },
      "source": [
        "### Policy gradient loss\n",
        "\n",
        "\n",
        "**Упражнение 9:** Завершите функцию `policy_gradient_loss` ниже. Функция должна вычислять вероятности действий, пропуская `logits` через функцию softmax. Затем следует извлечь вероятность заданного `action` (используя индексацию массива) и вычислить `weighted_log_prob`, используя функцию, которую мы создали ранее.\n",
        "\n",
        "**Полезные методы:**\n",
        "*   `jax.nn.softmax` ([docs](https://jax.readthedocs.io/en/latest/_autosummary/jax.nn.softmax.html))"
      ]
    },
    {
      "cell_type": "code",
      "execution_count": null,
      "metadata": {
        "id": "9sUKkqx0RjM4"
      },
      "outputs": [],
      "source": [
        "def policy_gradient_loss(action, logits, reward_to_go):\n",
        "\n",
        "  # YOUR CODE\n",
        "\n",
        "  all_action_probs = jax.nn.softmax(logits) # convert logits into probs\n",
        "\n",
        "  action_prob = all_action_probs[action]  # using array indexing to get prob of action\n",
        "\n",
        "  weighted_log_prob = compute_weighted_log_prob(action_prob, reward_to_go)\n",
        "\n",
        "  # END YOUR CODE\n",
        "\n",
        "  loss = -weighted_log_prob # negative because we want gradient `ascent`\n",
        "\n",
        "  return loss"
      ]
    },
    {
      "cell_type": "code",
      "execution_count": null,
      "metadata": {
        "id": "7AMJvau1FsM5",
        "colab": {
          "base_uri": "https://localhost:8080/"
        },
        "outputId": "b20f44b7-1dfb-49bc-ef88-b834fd5039de"
      },
      "outputs": [
        {
          "output_type": "stream",
          "name": "stdout",
          "text": [
            "Looks correct.\n"
          ]
        }
      ],
      "source": [
        "#@title Проверка упр 9 {display-mode: \"form\"}\n",
        "\n",
        "try:\n",
        "  result = policy_gradient_loss(1, np.array([1,2], \"float32\"), 10)\n",
        "  if result != 3.1326165:\n",
        "    print(\"Your implementation looks wrong.\")\n",
        "  else:\n",
        "    print(\"Looks correct.\")\n",
        "except Exception as e:\n",
        "  print(\"An Error Occured: {}\".format(e))\n"
      ]
    },
    {
      "cell_type": "markdown",
      "metadata": {
        "id": "Gzuqx1jJrwVx"
      },
      "source": [
        "Когда мы делаем шаг обновления градиента политики, мы захотим сделать это, используя пакет опыта, а не просто один опыт, как выше. Мы можем использовать функцию JAX [vmap](https://jax.readthedocs.io/en/latest/_autosummary/jax.vmap.html#jax.vmap), чтобы легко заставить нашу функцию `policy_gradient_loss` работать с пакетом опыта."
      ]
    },
    {
      "cell_type": "code",
      "execution_count": null,
      "metadata": {
        "id": "3yq4naLURjM4",
        "colab": {
          "base_uri": "https://localhost:8080/"
        },
        "outputId": "41560457-51c4-4661-ee4c-708db6f92bc8"
      },
      "outputs": [
        {
          "output_type": "stream",
          "name": "stdout",
          "text": [
            "Policy gradient loss on batch: 1.6967314\n"
          ]
        }
      ],
      "source": [
        "def batched_policy_gradient_loss(params, obs_batch, action_batch, reward_to_go_batch):\n",
        "    # Get logits by passing observation through network\n",
        "    logits_batch = POLICY_NETWORK.apply(params, obs_batch)\n",
        "\n",
        "    policy_gradient_loss_batch = jax.vmap(policy_gradient_loss)(\n",
        "        action_batch,\n",
        "        logits_batch,\n",
        "        reward_to_go_batch) # add batch\n",
        "\n",
        "    # Compute mean loss over batch\n",
        "    mean_policy_gradient_loss = jnp.mean(policy_gradient_loss_batch)\n",
        "\n",
        "    return mean_policy_gradient_loss\n",
        "\n",
        "# TEST\n",
        "obs_batch = np.ones((3, *obs_shape), \"float32\")\n",
        "actions_batch = np.array([1,0,0])\n",
        "rew2go_batch = np.array([2.3, 4.3, 2.1])\n",
        "\n",
        "loss = batched_policy_gradient_loss(REINFORCE_params, obs_batch, actions_batch, rew2go_batch)\n",
        "\n",
        "print(\"Policy gradient loss on batch:\", loss)"
      ]
    },
    {
      "cell_type": "markdown",
      "metadata": {
        "id": "VDhTH3culwqo"
      },
      "source": [
        "### Оптимизатор сети\n",
        "\n",
        "Чтобы применить обновления градиента политики к нашей нейронной сети, мы будем использовать библиотеку JAX под названием [Optax](https://github.com/deepmind/optax). Optax имеет реализацию [оптимизатора Adam](https://www.geeksforgeeks.org/intuition-of-adam-optimizer/), которую мы можем использовать."
      ]
    },
    {
      "cell_type": "code",
      "execution_count": null,
      "metadata": {
        "id": "pxXINlMHP5Ic"
      },
      "outputs": [],
      "source": [
        "REINFORCE_OPTIMIZER = optax.adam(1e-3)\n",
        "\n",
        "# Initialise the optimiser\n",
        "REINFORCE_optim_state = REINFORCE_OPTIMIZER.init(REINFORCE_params)"
      ]
    },
    {
      "cell_type": "markdown",
      "metadata": {
        "id": "ViENrHOALbCw"
      },
      "source": [
        "Теперь у нас есть все необходимое для создания функции `REINFORCE_learn`. Мы сохраним состояние оптимизатора в `learn_state`. Мы вычислим градиент потерь градиента политики с помощью  `jax.grad` ([docs](https://jax.readthedocs.io/en/latest/_autosummary/jax.grad.html))."
      ]
    },
    {
      "cell_type": "code",
      "execution_count": null,
      "metadata": {
        "id": "CQr2Uz5ORjM5"
      },
      "outputs": [],
      "source": [
        "# A NamedTuple to store the state of the optimiser\n",
        "REINFORCELearnState = collections.namedtuple(\"LearnerState\", [\"optim_state\"])\n",
        "\n",
        "\n",
        "def REINFORCE_learn(key, params, learner_state, memory):\n",
        "\n",
        "  # Get the policy gradient by using `jax.grad()` on `batched_policy_gradient_loss`\n",
        "  grad_loss = jax.grad(batched_policy_gradient_loss)(params, memory.obs, memory.action, memory.reward_to_go)\n",
        "\n",
        "  # Get param updates using gradient and optimizer\n",
        "  updates, new_optim_state = REINFORCE_OPTIMIZER.update(grad_loss, learner_state.optim_state)\n",
        "\n",
        "  # Apply updates to params\n",
        "  params = optax.apply_updates(params, updates)\n",
        "\n",
        "  return params, REINFORCELearnState(new_optim_state) # update learner state"
      ]
    },
    {
      "cell_type": "markdown",
      "metadata": {
        "id": "5an3U2NhRKgG"
      },
      "source": [
        "### Цикл обучения REINFORCE\n",
        "Теперь мы можем обучить нашего агента REINFORCE, собрав все воедино с помощью цикла обучения."
      ]
    },
    {
      "cell_type": "code",
      "execution_count": null,
      "metadata": {
        "id": "vioIcVGsRjM5",
        "colab": {
          "base_uri": "https://localhost:8080/",
          "height": 683
        },
        "outputId": "ca740f76-f927-4d1e-d4e1-d39459ed2812"
      },
      "outputs": [
        {
          "output_type": "stream",
          "name": "stdout",
          "text": [
            "Starting training. This may take up to 10 minutes to complete.\n",
            "Episode: 0\tEpisode Return: 12.0\tAverage Episode Return: 12.0\tEvaluator Episode Return: 17.25\n",
            "Episode: 100\tEpisode Return: 94.0\tAverage Episode Return: 41.9\tEvaluator Episode Return: 62.5\n",
            "Episode: 200\tEpisode Return: 200.0\tAverage Episode Return: 152.0\tEvaluator Episode Return: 186.75\n",
            "Episode: 300\tEpisode Return: 144.0\tAverage Episode Return: 190.9\tEvaluator Episode Return: 198.875\n",
            "Episode: 400\tEpisode Return: 200.0\tAverage Episode Return: 197.05\tEvaluator Episode Return: 200.0\n",
            "Episode: 500\tEpisode Return: 200.0\tAverage Episode Return: 200.0\tEvaluator Episode Return: 200.0\n",
            "Episode: 600\tEpisode Return: 200.0\tAverage Episode Return: 200.0\tEvaluator Episode Return: 194.5\n",
            "Episode: 700\tEpisode Return: 15.0\tAverage Episode Return: 179.35\tEvaluator Episode Return: 177.25\n",
            "Episode: 900\tEpisode Return: 200.0\tAverage Episode Return: 200.0\tEvaluator Episode Return: 177.625\n",
            "Episode: 1000\tEpisode Return: 200.0\tAverage Episode Return: 200.0\tEvaluator Episode Return: 200.0\n"
          ]
        },
        {
          "output_type": "display_data",
          "data": {
            "text/plain": [
              "<Figure size 640x480 with 1 Axes>"
            ],
            "image/png": "[encoded data removed]"
          },
          "metadata": {}
        }
      ],
      "source": [
        "# JIT the choose_action and learn functions for more speed\n",
        "REINFORCE_learn_jit = jax.jit(REINFORCE_learn)\n",
        "REINFORCE_choose_action_jit = jax.jit(REINFORCE_choose_action)\n",
        "\n",
        "# Initial learn state\n",
        "REINFORCE_learn_state = REINFORCELearnState(REINFORCE_optim_state)\n",
        "\n",
        "# Run training loop\n",
        "print(\"Starting training. This may take up to 10 minutes to complete.\")\n",
        "episode_returns, evaluator_returns = run_training_loop(\n",
        "                                        env_name,\n",
        "                                        REINFORCE_params,\n",
        "                                        REINFORCE_choose_action_jit,\n",
        "                                        None, # action state not used\n",
        "                                        REINFORCE_learn_jit,\n",
        "                                        REINFORCE_learn_state,\n",
        "                                        REINFORCE_memory,\n",
        "                                        num_episodes=1001,\n",
        "                                        learn_steps_per_episode=2,\n",
        "                                        video_subdir=\"reinforce\"\n",
        "                                      )\n",
        "\n",
        "# Plot the episode returns\n",
        "plt.plot(episode_returns)\n",
        "plt.xlabel(\"Episode\")\n",
        "plt.ylabel(\"Episode Return\")\n",
        "plt.title(\"REINFORCE\")\n",
        "plt.show()\n"
      ]
    },
    {
      "cell_type": "code",
      "execution_count": null,
      "metadata": {
        "id": "caKL3ngNr_Yh",
        "colab": {
          "base_uri": "https://localhost:8080/",
          "height": 288
        },
        "outputId": "573fe2cd-68cd-4d34-ac29-8d49c8ebdccb"
      },
      "outputs": [
        {
          "output_type": "execute_result",
          "data": {
            "text/plain": [
              "<IPython.core.display.HTML object>"
            ],
            "text/html": [
              "\n",
              "<video width=400 controls>\n",
              "      <source src=\"data:video/mp4;base64,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\" type=\"video/mp4\">\n",
              "</video>\n"
            ]
          },
          "metadata": {},
          "execution_count": 40
        }
      ],
      "source": [
        "#@title Визуализация {display-mode: \"form\"}\n",
        "#@markdown Выберите номер эпизода, менее или равного 1000, и **run this cell**.\n",
        "\n",
        "episode_number = 800 #@param {type:\"number\"}\n",
        "\n",
        "assert (episode_number % 100) == 0, \"Episode number must be a multiple of 100 since we only record every 100th episode.\"\n",
        "assert episode_number < 1001, \"Episode number must be less than or equal to 1000\"\n",
        "\n",
        "eval_episode_number = int(episode_number / 100 * 8)\n",
        "video_path = f\"./video/reinforce/eval/rl-video-episode-{eval_episode_number}.mp4\"\n",
        "\n",
        "mp4 = open(video_path,'rb').read()\n",
        "data_url = \"data:video/mp4;base64,\" + b64encode(mp4).decode()\n",
        "HTML(\"\"\"\n",
        "<video width=400 controls>\n",
        "      <source src=\"%s\" type=\"video/mp4\">\n",
        "</video>\n",
        "\"\"\" % data_url)"
      ]
    },
    {
      "cell_type": "markdown",
      "metadata": {
        "id": "D_HHzFTOc-Qr"
      },
      "source": [
        "## 4. Q-Learning\n",
        "Другим распространенным подходом к поиску оптимальной политики в среде с использованием RL является Q-обучение."
      ]
    },
    {
      "cell_type": "markdown",
      "metadata": {
        "id": "lF1nOZrUSzhE"
      },
      "source": [
        "### Функция значения состояния-действия\n",
        "В Q-обучении агент изучает функцию, которая аппроксимирует **значение** пар состояние-действие. Под *значением* мы подразумеваем отдачу, которую вы ожидаете получить, если начнете в определенном состоянии $s_t$, выполните определенное действие $a_t$, а затем будете действовать в соответствии с определенной политикой $\\pi$ навсегда. Функция значения состояния-действия политики $\\pi$ задается как\n",
        "\n",
        "$Q_\\pi(s,a)=\\mathrm{E}_{\\tau\\sim\\pi}\\left[R(\\tau) \\mid s_0=s,\\ a_t=a\\right]$.\n",
        "\n",
        "Мы говорим, что функция значения $Q_\\pi(s,a)$ является **оптимальной** функцией значения, если политика $\\pi$ является оптимальной политикой. Обозначим функцию оптимального значения следующим образом:\n",
        "\n",
        "$Q_\\ast(s,a)=\\max \\limits_\\pi \\ \\mathrm{E}_{\\tau\\sim\\pi}\\left[R(\\tau) \\mid s_0=s,\\ a_0=a\\right]$\n",
        "\n",
        "Существует важная связь между оптимальным действием $a_\\ast$ в состоянии $s$ и оптимальной функцией значения состояния-действия $Q_\\ast$. А именно, оптимальное действие $a_\\ast$ в состоянии $s$ равно действию, которое максимизирует оптимальную функцию значения состояния-действия. Эта связь естественным образом индуцирует оптимальную политику:\n",
        "\n",
        "$\\pi_\\ast(s)=\\arg \\max \\limits_a\\ Q_\\ast(s, a)$"
      ]
    },
    {
      "cell_type": "markdown",
      "metadata": {
        "id": "H2x2tqvZSihz"
      },
      "source": [
        "### Greedy action selection (Жадный выбор действия)\n",
        "\n",
        "**Упражнение 10:** Давайте реализуем функцию, которая, учитывая вектор Q-значений, возвращает действие с наибольшим Q-значением (т. е. жадное действие).\n",
        "\n",
        "**Useful methods:**\n",
        "*   `jax.numpy.argmax` ([docs](https://jax.readthedocs.io/en/latest/_autosummary/jax.numpy.argmax.html))"
      ]
    },
    {
      "cell_type": "code",
      "execution_count": null,
      "metadata": {
        "id": "Nn9P1YdzTIDU"
      },
      "outputs": [],
      "source": [
        "# Implement a function takes q-values as input and returns the greedy_action\n",
        "def select_greedy_action(q_values):\n",
        "\n",
        "  # YOUR CODE\n",
        "  action = jax.numpy.argmax(q_values)\n",
        "  # action = jax.numpy.array.argmax(q_values)\n",
        "  # END YOUR CODE\n",
        "\n",
        "  return action"
      ]
    },
    {
      "cell_type": "code",
      "execution_count": null,
      "metadata": {
        "id": "ZBzLr_G7QKXR",
        "colab": {
          "base_uri": "https://localhost:8080/"
        },
        "outputId": "4b0c21b0-20c9-4f9a-9fd8-0f4028b83a77"
      },
      "outputs": [
        {
          "output_type": "stream",
          "name": "stdout",
          "text": [
            "Looks good.\n"
          ]
        }
      ],
      "source": [
        "# @title Проверка упр 10 (run me) {display-mode: \"form\"}\n",
        "\n",
        "try:\n",
        "  q_values = jnp.array([1,1,3,4])\n",
        "  action = select_greedy_action(q_values)\n",
        "\n",
        "  if action != 3:\n",
        "    print(\"Incorrect answer, your greedy action selector looks wrong\")\n",
        "  else:\n",
        "    print(\"Looks good.\")\n",
        "except Exception as e:\n",
        "  print(\"An Error Occured: {}\".format(e))\n"
      ]
    },
    {
      "cell_type": "markdown",
      "metadata": {
        "id": "PFQUlqZ4ZyLp"
      },
      "source": [
        "### Q-Network\n",
        "В отличие от подхода с градиентом политики из предыдущего раздела, в Q-обучении и других методах RL на основе значений нам не нужна параметризация для политики, вместо этого мы параметризуем Q-функцию с помощью нейронной сети $Q_\\theta$. Мы получаем политику из Q-сети, всегда выбирая действие с *наибольшим* значением:\n",
        "\n",
        "$\\hat{\\pi}_\\theta(s)=\\arg \\max \\limits_a\\ Q_{\\theta}(s, a)$\n",
        "\n",
        "Как и ранее, мы будем использовать хайку для создания нейронной сети для аппроксимации этой Q-функции. Сеть будет принимать наблюдение в качестве входных данных, а затем выводить Q-значение для каждого из доступных действий. Таким образом, в случае CartPole выход сети будет иметь размер $2$."
      ]
    },
    {
      "cell_type": "code",
      "execution_count": null,
      "metadata": {
        "id": "9wU1soJYZyLp"
      },
      "outputs": [],
      "source": [
        "def build_network(num_actions: int, layers=[20, 20]) -> hk.Transformed:\n",
        "  \"\"\"Factory for a simple MLP network for approximating Q-values.\"\"\"\n",
        "\n",
        "  def q_network(obs):\n",
        "    network = hk.Sequential(\n",
        "        [hk.Flatten(),\n",
        "         hk.nets.MLP(layers + [num_actions])])\n",
        "    return network(obs)\n",
        "\n",
        "  return hk.without_apply_rng(hk.transform(q_network))"
      ]
    },
    {
      "cell_type": "markdown",
      "metadata": {
        "id": "sUwG-4qTS1zx"
      },
      "source": [
        "Давайте инициализируем нашу Q-сеть и получим начальные параметры."
      ]
    },
    {
      "cell_type": "code",
      "execution_count": null,
      "metadata": {
        "id": "1uvq5n2cS9lu",
        "colab": {
          "base_uri": "https://localhost:8080/"
        },
        "outputId": "459ee561-e9c7-4f82-e178-7ba9db2eeee7"
      },
      "outputs": [
        {
          "output_type": "stream",
          "name": "stdout",
          "text": [
            "Q-Learning params: dict_keys(['mlp/~/linear_0', 'mlp/~/linear_1', 'mlp/~/linear_2'])\n"
          ]
        }
      ],
      "source": [
        "# Initialise Q-network\n",
        "Q_NETWORK = build_network(num_actions=num_actions, layers=[20, 20]) # two actions\n",
        "\n",
        "dummy_obs = jnp.zeros((1,*obs_shape), jnp.float32) # a dummy observation like the one in CartPole\n",
        "\n",
        "random_key = jax.random.PRNGKey(42) # random key\n",
        "Q_NETWORK_PARAMS = Q_NETWORK.init(random_key, dummy_obs) # Get initial params\n",
        "\n",
        "print(\"Q-Learning params:\", Q_NETWORK_PARAMS.keys())"
      ]
    },
    {
      "cell_type": "markdown",
      "metadata": {
        "id": "iqCUeZfhEfyP"
      },
      "source": [
        "Прежде чем мы реализуем функцию потерь, необходимую для обучения нашей Q-сети, давайте сначала обсудим интуицию, стоящую за ней."
      ]
    },
    {
      "cell_type": "markdown",
      "metadata": {
        "id": "vbLig3uSZyLp"
      },
      "source": [
        "### The Bellman Equations (Уравнения Беллмана)\n",
        "Функция значения может быть записана рекурсивно как:\n",
        "\n",
        "$Q_{\\pi}(s, a) =\\underset{s^{\\prime} \\sim P}{\\mathrm{E}}\\left[r(s, a)+ \\underset{a^{\\prime} \\sim \\pi}{\\mathrm{E}}\\left[Q_{\\pi}\\left(s^{\\prime}, a^{\\prime}\\right)\\right]\\right]$,\n",
        "\n",
        "где $s' \\sim P$ — это сокращение для обозначения того, что следующее состояние $s'$ выбирается из функции перехода среды $P(s'\\mid s,a)$. Интуитивно это уравнение говорит, что ценность действия $a$, которое вы предприняли в состоянии $s$, равна вознаграждению $r$, которое вы ожидаете получить, плюс ценность, которую вы ожидаете получить в следующем состоянии $s`$, в котором вы окажетесь, при условии, что вы выберете свое следующее действие $a`$ с политикой $\\pi$. Уравнение Беллмана для оптимальной функции ценности выглядит так:\n",
        "\n",
        "$Q_{*}(s, a) =\\underset{s^{\\prime} \\sim P}{\\mathrm{E}}\\left[r(s, a)+\\ \\underset{a^{\\prime}}{\\max}\\ Q_{*}(s^{\\prime}, a^{\\prime})\\right]$\n",
        "\n",
        "Обратите внимание, что вместо выбора вашего следующего действия $a`$ с политикой $\\pi$ мы выбираем действие с наибольшим значением Q.\n",
        "\n",
        "Более подробное обсуждение уравнений Беллмана можно найти на сайте [OpenAI Spinning Up](https://spinningup.openai.com/en/latest/spinningup/rl_intro.html)."
      ]
    },
    {
      "cell_type": "markdown",
      "metadata": {
        "id": "DsOJi5G8ZyLp"
      },
      "source": [
        "### The Bellman Backup (Резервное копирование Беллмана)\n",
        "\n",
        "Чтобы научиться аппроксимировать оптимальную функцию Q-значения, мы можем использовать правую часть уравнения Беллмана в качестве правила обновления. Другими словами, предположим, что у нас есть Q-сеть $Q_\\theta$, аппроксимированная с использованием параметров $\\theta$, тогда мы можем итеративно обновлять параметры таким образом, что\n",
        "\n",
        "$Q_\\theta(s,a)\\leftarrow r(s, a) + \\underset{a'}{\\max}\\ Q_\\theta(s', a')$.\n",
        "\n",
        "Интуитивно это означает, что аппроксимация Q-значения действия $a$ в состоянии $s$ должна быть обновлена ​​таким образом, чтобы она была ближе к равной вознаграждению, полученному от среды $r(s, a)$, плюс значение наилучшего возможного действия в следующем состоянии $s'$. Мы можем выполнить эту оптимизацию, минимизируя разницу между левой и правой частью относительно параметров $\\theta$, используя градиентный спуск. Мы можем измерить разницу между двумя значениями, используя [квадратичную ошибку](https://en.wikipedia.org/wiki/Mean_squared_error#Loss_function).\n",
        "\n",
        "**Упражнение 11:** Реализуйте функцию квадратичной ошибки.\n",
        "\n",
        "**Полезные функции**\n",
        "* `jax.numpy.square` ([docs](https://jax.readthedocs.io/en/latest/_autosummary/jax.numpy.square.html))"
      ]
    },
    {
      "cell_type": "code",
      "execution_count": null,
      "metadata": {
        "id": "PTto__ohZyLp"
      },
      "outputs": [],
      "source": [
        "def compute_squared_error(pred, target):\n",
        "  # YOUR CODE\n",
        "  squared_error = jax.numpy.square(target - pred)\n",
        "  # END YOUR CODE\n",
        "\n",
        "  return squared_error"
      ]
    },
    {
      "cell_type": "code",
      "execution_count": null,
      "metadata": {
        "id": "wGhX8XTFVPVU",
        "colab": {
          "base_uri": "https://localhost:8080/"
        },
        "outputId": "4d7f89ab-0a02-4e7b-e325-aeffa6c4271f"
      },
      "outputs": [
        {
          "output_type": "stream",
          "name": "stdout",
          "text": [
            "Looks good.\n"
          ]
        }
      ],
      "source": [
        "#@title Проверка упр 11 {display-mode: \"form\"}\n",
        "\n",
        "try:\n",
        "  result = compute_squared_error(1, 4)\n",
        "\n",
        "  if result != 9:\n",
        "    print(\"Your implementation looks wrong.\")\n",
        "  else:\n",
        "    print(\"Looks good.\")\n",
        "except Exception as e:\n",
        "  print(\"An Error Occured: {}\".format(e))"
      ]
    },
    {
      "cell_type": "markdown",
      "metadata": {
        "id": "ycpZVkgdZyLp"
      },
      "source": [
        "**Упражнение 12:** Реализуйте функцию, которая вычисляет **цель Беллмана** (правая часть уравнения Беллмана). Если эпизод находится на последнем временном шаге (т. е. done==1.0), то цель Беллмана должна быть равна награде, без дополнительного значения в конце.\n",
        "\n",
        "**Полезные функции**\n",
        "* `jax.numpy.max` ([docs](https://jax.readthedocs.io/en/latest/_autosummary/jax.numpy.max.html))"
      ]
    },
    {
      "cell_type": "code",
      "execution_count": null,
      "metadata": {
        "id": "961_OllWZyLp"
      },
      "outputs": [],
      "source": [
        "# Bellman target\n",
        "def compute_bellman_target(reward, done, next_q_values):\n",
        "  \"\"\"A function to compute the bellman target.\n",
        "\n",
        "  Args:\n",
        "      reward: a scalar reward.\n",
        "      done: a scalar of value either 1.0 or 0.0, indicating if the transition is a terminal one.\n",
        "      next_q_values: a vector of q_values for the next state. One for each action.\n",
        "  Returns:\n",
        "      A scalar equal to the bellman target.\n",
        "\n",
        "  \"\"\"\n",
        "  # YOUR CODE\n",
        "  bellman_target = reward\n",
        "  if bool(done) == False:\n",
        "    bellman_target+=jax.numpy.max(next_q_values)\n",
        "  # END YOUR CODE\n",
        "\n",
        "  return int(bellman_target)"
      ]
    },
    {
      "cell_type": "code",
      "execution_count": null,
      "metadata": {
        "id": "E5RAhegOWAkC",
        "colab": {
          "base_uri": "https://localhost:8080/"
        },
        "outputId": "82b2aee8-09c4-417f-e051-7066530d3185"
      },
      "outputs": [
        {
          "output_type": "stream",
          "name": "stdout",
          "text": [
            "Looks good.\n"
          ]
        }
      ],
      "source": [
        "#@title Проверка упр 12 {display-mode: \"form\"}\n",
        "\n",
        "try:\n",
        "  # not done\n",
        "  result1 = compute_bellman_target(1, 0.0, np.array([3,2], \"float32\"))\n",
        "\n",
        "  # done\n",
        "  result2 = compute_bellman_target(1, 1.0, np.array([3,2], \"float32\"))\n",
        "  if result1 != 4 or result2 != 1:\n",
        "    print(\"Your implementation looks wrong.\")\n",
        "  else:\n",
        "    print(\"Looks good.\")\n",
        "except Exception as e:\n",
        "  print(\"An Error Occured: {}\".format(e))"
      ]
    },
    {
      "cell_type": "markdown",
      "metadata": {
        "id": "8sIjrHSJZyLq"
      },
      "source": [
        "Теперь мы можем объединить эти две функции, чтобы вычислить потерю для Q-обучения. Потери Q-обучения равны квадрату разницы между прогнозируемым значением Q действия и его соответствующей целью Беллмана.\n",
        "\n",
        "**Упражнение 13:** Реализуйте функцию потери Q-обучения."
      ]
    },
    {
      "cell_type": "code",
      "execution_count": null,
      "metadata": {
        "id": "LJY_kpFcZyLq"
      },
      "outputs": [],
      "source": [
        "def q_learning_loss(q_values, action, reward, done, next_q_values):\n",
        "    \"\"\"Implementation of the Q-learning loss.T\n",
        "\n",
        "    Args:\n",
        "        q_values: a vector of Q-values, one for each action.\n",
        "        action: an integer, giving the action that was chosen. q_values[action] is the value of the chose action.\n",
        "        done: is a scalar that indicates if this is a terminal transition.\n",
        "        next_q_values: a vector of Q-values in the next state.\n",
        "    Returns:\n",
        "        The squared difference between the q_value of the chosen action and the bellman target.\n",
        "    \"\"\"\n",
        "    # YOUR CODE\n",
        "    chosen_action_q_value = q_values[action] # q_value of action, use array indexing\n",
        "    bellman_target = compute_bellman_target(reward, done, next_q_values)\n",
        "    squared_error = compute_squared_error(chosen_action_q_value, bellman_target)\n",
        "    # END YOUR CODE\n",
        "\n",
        "    return squared_error"
      ]
    },
    {
      "cell_type": "code",
      "execution_count": null,
      "metadata": {
        "id": "1aZRn1qaWx2M",
        "colab": {
          "base_uri": "https://localhost:8080/"
        },
        "outputId": "5e0cf2ea-3c92-4a72-aba5-376e616246c9"
      },
      "outputs": [
        {
          "output_type": "stream",
          "name": "stdout",
          "text": [
            "Looks good.\n"
          ]
        }
      ],
      "source": [
        "#@title Проверка упр 13 {display-mode: \"form\"}\n",
        "\n",
        "try:\n",
        "  result = q_learning_loss(np.array([3,2], \"float32\"), 1, 2, 0.0, np.array([3,2], \"float32\"))\n",
        "\n",
        "  if result != 9.0:\n",
        "    print(\"Your implementation looks wrong.\")\n",
        "  else:\n",
        "    print(\"Looks good.\")\n",
        "except Exception as e:\n",
        "  print(\"An Error Occured: {}\".format(e))"
      ]
    },
    {
      "cell_type": "markdown",
      "metadata": {
        "id": "b4YnSUfJZyLq"
      },
      "source": [
        "### Target Q-network (Целевая Q-сеть)\n",
        "Обратите внимание: когда мы вычисляем цель Беллмана, мы используем нашу Q-сеть $Q_\\theta$ для вычисления значения для следующего состояния $s_t$. По сути, мы используем наше последнее приближение Q-функции для вычисления цели нашего следующего приближения. Использование приближения для вычисления цели для вашего следующего приближения называется самозагрузкой. К сожалению, если мы наивно делаем такую ​​самозагрузку, это может сделать обучение нейронной сети очень нестабильным. Чтобы смягчить это, мы можем вместо этого использовать другой набор параметров $\\hat{\\theta}$ для вычисления значений в состоянии $s_{t+1}$. Мы будем сохранять параметры $\\hat{\\theta}$ фиксированными и только периодически обновлять их, чтобы они были равны последним онлайн-параметрам $\\theta$ каждые пару шагов обучения *(скажем, 100)*. Это позволяет сохранять фиксированные цели Беллмана для пары шагов обучения, чтобы помочь снизить нестабильность из-за самозагрузки.\n",
        "\n",
        "Нам нужно будет отслеживать последние (онлайн) параметры, а также параметры целевых сетей. Давайте создадим `NamedTuple` для хранения этих двух значений. Нам также нужно будет отслеживать количество шагов обучения, которые мы сделали, чтобы знать, когда обновлять целевую сеть. Давайте сохраним `count` шагов обучения в `learn_state`."
      ]
    },
    {
      "cell_type": "code",
      "execution_count": null,
      "metadata": {
        "id": "DvZqUKmq6L7k"
      },
      "outputs": [],
      "source": [
        "# Store online and target parameters\n",
        "QLearnParams = collections.namedtuple(\"Params\", [\"online\", \"target\"])\n",
        "\n",
        "# Q-learn-state\n",
        "QLearnState = collections.namedtuple(\"LearnerState\", [\"count\", \"optim_state\"])"
      ]
    },
    {
      "cell_type": "markdown",
      "metadata": {
        "id": "CJWH2_kNZsau"
      },
      "source": [
        "Мы снова будем использовать Optax для оптимизации нашей нейронной сети в JAX. Мы сохраняем состояние оптимизатора в `learn_state` выше. Давайте теперь создадим экземпляр оптимизатора и добавим начальные параметры Q-сети в объект `QLearnParams`."
      ]
    },
    {
      "cell_type": "code",
      "execution_count": null,
      "metadata": {
        "id": "HwqKTN6BaAXE"
      },
      "outputs": [],
      "source": [
        "# Initialise Q-network optimizer\n",
        "Q_LEARN_OPTIMIZER = optax.adam(3e-4) # learning rate\n",
        "\n",
        "Q_LEARN_OPTIM_STATE = Q_LEARN_OPTIMIZER.init(Q_NETWORK_PARAMS) # initial optim state\n",
        "\n",
        "# Create Learn State\n",
        "Q_LEARNING_LEARN_STATE = QLearnState(0, Q_LEARN_OPTIM_STATE) # count set to zero initially\n",
        "\n",
        "# Add initial Q-network weights to QLearnParams object\n",
        "Q_LEARNING_PARAMS = QLearnParams(online=Q_NETWORK_PARAMS, target=Q_NETWORK_PARAMS) # target equal to online"
      ]
    },
    {
      "cell_type": "markdown",
      "metadata": {
        "id": "xj89M8LgZlFe"
      },
      "source": [
        "Теперь мы можем реализовать простую функцию, которая обновляет параметры целевых сетей, чтобы они соответствовали последним онлайн-параметрам каждые 100 шагов обучения."
      ]
    },
    {
      "cell_type": "code",
      "execution_count": null,
      "metadata": {
        "id": "SKrg_3rO6cCL"
      },
      "outputs": [],
      "source": [
        "def update_target_params(learn_state, online_weights, target_weights):\n",
        "  \"\"\"A function to update target params every 100 training steps\"\"\"\n",
        "\n",
        "  target = jax.lax.cond(\n",
        "      jax.numpy.mod(learn_state.count, 100) == 0,\n",
        "      lambda x, y: x,\n",
        "      lambda x, y: y,\n",
        "      online_weights,\n",
        "      target_weights\n",
        "  )\n",
        "\n",
        "  params = QLearnParams(online_weights, target)\n",
        "\n",
        "  return params"
      ]
    },
    {
      "cell_type": "markdown",
      "metadata": {
        "id": "KoiaYSo9ZyLq"
      },
      "source": [
        "### Q-learning loss (Функция потери Q-обучения)\n",
        "Теперь у нас есть все необходимое для реализации функции `q_learn`, которая принимает некоторую партию переходов и выполняет шаг Q-обучения для обновления параметров сети. Но сначала мы используем `jax.vmap` для изменения функции `q_learning_loss` так, чтобы она принимала партии переходов. Кроме того, мы вычислим Q-значения, передавая наблюдения через `Q_NETWORK`, и целевые Q-значения, используя целевые параметры `Q_NETWORK`."
      ]
    },
    {
      "cell_type": "code",
      "execution_count": null,
      "metadata": {
        "id": "hnrsGppWZyLq"
      },
      "outputs": [],
      "source": [
        "def batched_q_learning_loss(online_params, target_params, obs, actions, rewards, next_obs, dones):\n",
        "    q_values = Q_NETWORK.apply(online_params, obs) # use the online parameters\n",
        "    next_q_values = Q_NETWORK.apply(target_params, next_obs) # use the target parameters\n",
        "    squared_error = jax.vmap(q_learning_loss)(q_values, actions, rewards, dones, next_q_values) # vmap q_learning_loss\n",
        "    mean_squared_error = jnp.mean(squared_error) # mean squared error over batch\n",
        "    return mean_squared_error"
      ]
    },
    {
      "cell_type": "markdown",
      "metadata": {
        "id": "CU8vo9ZebnEa"
      },
      "source": [
        "Теперь мы можем создать функцию `q_learn`, которая вычисляет градиент `batched_q_learning_loss`, а затем использует оптимизатор Optax для обновления весов сети, а затем, наконец (возможно), обновляет целевые параметры."
      ]
    },
    {
      "cell_type": "code",
      "execution_count": null,
      "metadata": {
        "id": "6BYoX2W_ZyLr"
      },
      "outputs": [],
      "source": [
        "def q_learn(rng, params, learner_state, memory):\n",
        "  # Compute gradients\n",
        "  grad_loss = jax.grad(batched_q_learning_loss)(params.online, params.target, memory.obs,\n",
        "                                          memory.action, memory.reward,\n",
        "                                          memory.next_obs, memory.done,\n",
        "                                          ) # jax.grad\n",
        "\n",
        "  # Get updates\n",
        "  updates, opt_state = Q_LEARN_OPTIMIZER.update(grad_loss, learner_state.optim_state)\n",
        "\n",
        "  # Apply them\n",
        "  new_weights = optax.apply_updates(params.online, updates)\n",
        "\n",
        "  # Maybe update target network\n",
        "  params = update_target_params(learner_state, new_weights, params.target)\n",
        "\n",
        "  # Increment learner step counter\n",
        "  learner_state = QLearnState(learner_state.count + 1, opt_state)\n",
        "\n",
        "  return params, learner_state"
      ]
    },
    {
      "cell_type": "markdown",
      "metadata": {
        "id": "VpZsKHssZyLq"
      },
      "source": [
        "### Replay Buffer (Буфер воспроизведения)\n",
        "Для Q-обучения нам понадобится память агента, которая хранит целые переходы: `obs`, `action`, `reward`, `next_obs`, `done`. Когда мы извлекаем переходы из памяти, они должны выбираться случайным образом из всех переходов, собранных до сих пор. В RL мы часто называем такой модуль **буфером воспроизведения**.\n",
        "\n",
        "Одним из преимуществ использования такого буфера воспроизведения является то, что опыт можно повторно использовать несколько раз для обучения, в отличие от алгоритма градиента политики REINFORCE, где мы отбрасывали воспоминания после их использования для обучения."
      ]
    },
    {
      "cell_type": "code",
      "execution_count": null,
      "metadata": {
        "id": "8tv5dUH6ZyLr"
      },
      "outputs": [],
      "source": [
        "class TransitionMemory(object):\n",
        "  \"\"\"A simple Python replay buffer.\"\"\"\n",
        "\n",
        "  def __init__(self, max_size=10_000, batch_size=256):\n",
        "    self.batch_size = batch_size\n",
        "    self.buffer = collections.deque(maxlen=max_size)\n",
        "\n",
        "  def push(self, transition):\n",
        "\n",
        "    # add transition to the replay buffer\n",
        "    self.buffer.append(\n",
        "        (transition.obs, transition.action, transition.reward,\n",
        "          transition.next_obs, transition.done)\n",
        "    )\n",
        "\n",
        "\n",
        "  def is_ready(self):\n",
        "    return self.batch_size <= len(self.buffer)\n",
        "\n",
        "  def sample(self):\n",
        "    # Randomly sample a batch of transitions from the buffer\n",
        "    random_replay_sample = random.sample(self.buffer, self.batch_size)\n",
        "\n",
        "    # Batch the transitions together\n",
        "    obs_batch, action_batch, reward_batch, next_obs_batch, done_batch = zip(*random_replay_sample)\n",
        "\n",
        "    return Transition(\n",
        "        np.stack(obs_batch).astype(\"float32\"),\n",
        "        np.asarray(action_batch).astype(\"int32\"),\n",
        "        np.asarray(reward_batch).astype(\"float32\"),\n",
        "        np.stack(next_obs_batch).astype(\"float32\"),\n",
        "        np.asarray(done_batch).astype(\"float32\")\n",
        "    )\n",
        "\n",
        "# Instantiate the memory\n",
        "Q_LEARNING_MEMORY = TransitionMemory(max_size=50_000, batch_size=256)"
      ]
    },
    {
      "cell_type": "markdown",
      "metadata": {
        "id": "XbHk03VVUHAV"
      },
      "source": [
        "### Случайное исследование\n",
        "У нас почти есть все, что нужно для функционирующего агента Q-обучения. Но одна проблема заключается в том, что если мы всегда выбираем действие с наивысшим значением Q, то политика агента будет полностью [детерминированной](https://www.quora.com/What-is-the-intuitive-difference-between-a-stochastic-model-and-a-deterministic-model). Это означает, что агент всегда будет выбирать одну и ту же стратегию. Это может представлять проблему, поскольку в начале обучения Q-сеть будет очень неточной (т. е. плохой аппроксимацией истинной Q-функции). Таким образом, агент будет последовательно выбирать неоптимальные действия. Более того, агент никогда не отклонится от своей неоптимальной стратегии и никогда не обнаружит новые, потенциально более полезные действия. В результате Q-сеть остается неточной. В идеале агент должен опробовать много разных стратегий, чтобы он мог наблюдать результаты (вознаграждения) своих действий в разных состояниях и таким образом улучшить приближение Q-функции.\n",
        "\n",
        "Один простой способ гарантировать, что агент опробует много разных действий, — позволить ему периодически выбирать некоторые случайные действия вместо жадного (лучшего) действия все время.\n",
        "\n",
        "**Упражнение 14:** Реализуйте функцию, которая, учитывая количество возможных (дискретных) действий, возвращает случайное действие.\n",
        "\n",
        "**Полезные методы:**\n",
        "\n",
        "*  `jax.random.randint` ([docs](https://jax.readthedocs.io/en/latest/_autosummary/jax.random.randint.html))"
      ]
    },
    {
      "cell_type": "code",
      "execution_count": null,
      "metadata": {
        "id": "uUKkpMLXUtko"
      },
      "outputs": [],
      "source": [
        "def select_random_action(key, num_actions):\n",
        "\n",
        "    # YOUR CODE\n",
        "    key1, key2 = jax.random.split(key)\n",
        "    action = jax.random.randint(key,shape=(1,1),minval=0,maxval=num_actions).reshape(())\n",
        "    # END YOUR CODE\n",
        "    return action"
      ]
    },
    {
      "cell_type": "code",
      "execution_count": null,
      "metadata": {
        "id": "NO6va6S2Y40E",
        "colab": {
          "base_uri": "https://localhost:8080/"
        },
        "outputId": "3c12d802-bcd5-4bb6-e3c5-8eeada610876"
      },
      "outputs": [
        {
          "output_type": "stream",
          "name": "stdout",
          "text": [
            "1 0\n",
            "Looks good.\n"
          ]
        }
      ],
      "source": [
        "#@title Проверка упр 14 {display-mode: \"form\"}\n",
        "\n",
        "try:\n",
        "  random_key1 = random_key = jax.random.PRNGKey(6) # random key\n",
        "  random_key2 = random_key = jax.random.PRNGKey(1000) # random key\n",
        "  result1 = select_random_action(random_key1, 2)\n",
        "  result2 = select_random_action(random_key2, 2)\n",
        "  print(result1,result2)\n",
        "  if result1 != 1 or result2 != 0:\n",
        "    print(\"Your implementation looks wrong.\")\n",
        "  else:\n",
        "    print(\"Looks good.\")\n",
        "except:\n",
        "  print(\"Your implementation looks wrong.\")"
      ]
    },
    {
      "cell_type": "markdown",
      "metadata": {
        "id": "8-kKDFT6XU6y"
      },
      "source": [
        "### $\\varepsilon$-greedy action selection (эпсилон жадный выбор действия)\n",
        "В начале обучения, когда точность Q-сети низкая, агенту стоит в основном совершать случайные действия, чтобы он мог узнать, насколько хороши/плохи действия. Однако по мере повышения точности Q-сети агент должен начать совершать меньше случайных действий и вместо этого начать выбирать жадные действия относительно Q-значений. Выбор лучших действий с учетом текущей Q-сети называется **эксплуатацией**. В RL мы часто называем отношение случайных и жадных действий **эпсилоном** $\\varepsilon$. Эпсилон обычно представляет собой десятичное значение в интервале $[0,1]$, где, например, $\\varepsilon=0.4$ означает, что агент выбирает случайное действие в 40% случаев, а жадное действие — в 60% случаев. В RL принято линейно уменьшать значение эпсилон с течением времени, так что агент становится все более жадным по мере повышения точности его Q-сети в процессе обучения.\n",
        "\n",
        "**Упражнение 15:** Реализуйте функцию, которая принимает количество временных шагов в качестве входных данных и возвращает текущее значение эпсилон."
      ]
    },
    {
      "cell_type": "code",
      "execution_count": null,
      "metadata": {
        "id": "_qejnbCocurG"
      },
      "outputs": [],
      "source": [
        "EPSILON_DECAY_TIMESTEPS = 3000 # decay epsilon over 3000 timesteps\n",
        "EPSILON_MIN = 0.1 # 10% exploration"
      ]
    },
    {
      "cell_type": "code",
      "execution_count": null,
      "metadata": {
        "id": "5ujSbssCZyLs"
      },
      "outputs": [],
      "source": [
        "def get_epsilon(num_timesteps):\n",
        "  # YOUR CODE\n",
        "  epsilon = (EPSILON_DECAY_TIMESTEPS-num_timesteps)/EPSILON_DECAY_TIMESTEPS # decay epsilon\n",
        "\n",
        "  epsilon = jax.lax.select(\n",
        "      epsilon < EPSILON_MIN,\n",
        "      EPSILON_MIN, # if less than min then set to min\n",
        "      epsilon, # else don't change epsilon\n",
        "  )\n",
        "  # END YOUR CODE\n",
        "\n",
        "  return epsilon"
      ]
    },
    {
      "cell_type": "code",
      "execution_count": null,
      "metadata": {
        "id": "hvu4zA64aUou",
        "colab": {
          "base_uri": "https://localhost:8080/"
        },
        "outputId": "4f5ed057-a538-46f9-f8e0-f798b295221b"
      },
      "outputs": [
        {
          "output_type": "stream",
          "name": "stdout",
          "text": [
            "Your function looks correct.\n"
          ]
        }
      ],
      "source": [
        "#@title Проверка упр 15 {display-mode: \"form\"}\n",
        "def check_get_epsilon(get_epsilon):\n",
        "  try:\n",
        "    result1 = get_epsilon(10)\n",
        "    result2 = get_epsilon(5_010)\n",
        "\n",
        "    if result1 != 0.99666667 or result2 != 0.1:\n",
        "      print(\"Your function looks wrong.\")\n",
        "    else:\n",
        "      print(\"Your function looks correct.\")\n",
        "  except:\n",
        "    print(\"Your function looks wrong.\")\n",
        "\n",
        "check_get_epsilon(get_epsilon)\n"
      ]
    },
    {
      "cell_type": "markdown",
      "metadata": {
        "id": "t56oo58TVQ_s"
      },
      "source": [
        "**Упражнение 16:** Теперь давайте объединим эти функции для выполнения эпсилон-жадного выбора действия."
      ]
    },
    {
      "cell_type": "code",
      "execution_count": null,
      "metadata": {
        "id": "NlQx8K4vKUXj"
      },
      "outputs": [],
      "source": [
        "def select_epsilon_greedy_action(key, q_values, num_timesteps):\n",
        "    num_actions = len(q_values) # number of available actions\n",
        "\n",
        "    # YOUR CODE HERE\n",
        "    epsilon = get_epsilon(num_timesteps) # get epsilon value\n",
        "\n",
        "    should_explore = jax.random.uniform(key).reshape(()) < epsilon # hint: a boolean expression to check if some random number is less than epsilon\n",
        "\n",
        "    action = jax.lax.select(\n",
        "        should_explore,\n",
        "        select_random_action(key,num_actions), # if should explore\n",
        "        select_greedy_action(q_values) # if should be greedy\n",
        "    )\n",
        "    # END YOUR CODE\n",
        "\n",
        "    return action"
      ]
    },
    {
      "cell_type": "code",
      "execution_count": null,
      "metadata": {
        "id": "mkVU2a5e7P6b",
        "colab": {
          "base_uri": "https://localhost:8080/"
        },
        "outputId": "8becafbc-8632-44ec-cfe7-34379d8e2626"
      },
      "outputs": [
        {
          "output_type": "stream",
          "name": "stdout",
          "text": [
            "[1, 1, 0, 1, 1, 0, 1, 1, 1, 1]\n",
            "[0, 0, 0, 1, 1, 1, 1, 0, 0, 0]\n",
            "Looks correct!\n"
          ]
        }
      ],
      "source": [
        "#@title Проверка упражнения 16 {display-mode: \"form\"}\n",
        "\n",
        "try:\n",
        "  rng = hk.PRNGSequence(jax.random.PRNGKey(42))\n",
        "  dummy_q_values = jnp.array([0,1], jnp.float32)\n",
        "  num_timesteps = 5010 # very greedy\n",
        "  actions1 = []\n",
        "  for i in range(10):\n",
        "      actions1.append(int(select_epsilon_greedy_action(next(rng), dummy_q_values, num_timesteps)))\n",
        "\n",
        "  num_timesteps = 0 # completly random\n",
        "  actions2 = []\n",
        "  for i in range(10):\n",
        "      actions2.append(int(select_epsilon_greedy_action(next(rng), dummy_q_values, num_timesteps)))\n",
        "  print(actions1)\n",
        "  print(actions2)\n",
        "  if actions1 != [1, 1, 0, 1, 1, 0, 1, 1, 1, 1] or actions2 != [0, 0, 0, 1, 1, 1, 1, 0, 0, 0]:\n",
        "    print(\"Looks like something might be incorrect!\")\n",
        "  else:\n",
        "    print(\"Looks correct!\")\n",
        "except:\n",
        "  print(\"Looks like something might be incorrect!\")"
      ]
    },
    {
      "cell_type": "markdown",
      "metadata": {
        "id": "y5W23MnobN9x"
      },
      "source": [
        "### Действие выбора Q-learning\n",
        "\n",
        "Теперь у нас есть все необходимое для создания функции `q_learning_select_action`. Мы будем использовать `actor_state` для хранения счетчика, который отслеживает текущее количество временных шагов. Мы можем использовать счетчик для уменьшения нашего значения `epsilon`."
      ]
    },
    {
      "cell_type": "code",
      "execution_count": null,
      "metadata": {
        "id": "81TysLc0RjM6"
      },
      "outputs": [],
      "source": [
        "# Actor state stores the current number of timesteps\n",
        "QActorState = collections.namedtuple(\"ActorState\", [\"count\"])\n",
        "\n",
        "def q_learning_select_action(key, params, actor_state, obs, evaluation=False):\n",
        "    obs = jnp.expand_dims(obs, axis=0) # add dummy batch dim\n",
        "    q_values = Q_NETWORK.apply(params.online, obs)[0] # remove batch dim\n",
        "    action = select_epsilon_greedy_action(key, q_values, actor_state.count)\n",
        "    greedy_action = select_greedy_action(q_values)\n",
        "\n",
        "    action = jax.lax.select(\n",
        "        evaluation,\n",
        "        greedy_action,\n",
        "        action\n",
        "    )\n",
        "\n",
        "    next_actor_state = QActorState(actor_state.count + 1) # increment timestep counter\n",
        "\n",
        "    return action, next_actor_state\n",
        "\n",
        "Q_LEARNING_ACTOR_STATE = QActorState(0) # counter set to zero"
      ]
    },
    {
      "cell_type": "markdown",
      "metadata": {
        "id": "z884-1oNRGEr"
      },
      "source": [
        "### Обучение\n",
        "Теперь мы можем собрать все вместе, используя цикл агент-среда. Но сначала давайте объединим функцию выбора действия и функцию обучения для дополнительной скорости."
      ]
    },
    {
      "cell_type": "code",
      "execution_count": null,
      "metadata": {
        "id": "xbdHDbd1RjM8",
        "colab": {
          "base_uri": "https://localhost:8080/",
          "height": 636
        },
        "outputId": "5f8c45c3-93e1-479c-ae4f-50e91df1c857"
      },
      "outputs": [
        {
          "output_type": "stream",
          "name": "stdout",
          "text": [
            "Starting training. This may take up to 8 minutes to complete.\n",
            "Episode: 0\tEpisode Return: 16.0\tAverage Episode Return: 16.0\tEvaluator Episode Return: 8.625\n"
          ]
        },
        {
          "output_type": "error",
          "ename": "TracerBoolConversionError",
          "evalue": "Attempted boolean conversion of traced array with shape float32[].\nThis BatchTracer with object id 137119003374304 was created on line:\n  <ipython-input-120-b94a34fb3709>:4 (batched_q_learning_loss)\nSee https://jax.readthedocs.io/en/latest/errors.html#jax.errors.TracerBoolConversionError",
          "traceback": [
            "\u001b[0;31m---------------------------------------------------------------------------\u001b[0m",
            "\u001b[0;31mTracerBoolConversionError\u001b[0m                 Traceback (most recent call last)",
            "\u001b[0;32m<ipython-input-131-6e2b79171b96>\u001b[0m in \u001b[0;36m<cell line: 7>\u001b[0;34m()\u001b[0m\n\u001b[1;32m      5\u001b[0m \u001b[0;31m# Run environment loop\u001b[0m\u001b[0;34m\u001b[0m\u001b[0;34m\u001b[0m\u001b[0m\n\u001b[1;32m      6\u001b[0m \u001b[0mprint\u001b[0m\u001b[0;34m(\u001b[0m\u001b[0;34m\"Starting training. This may take up to 8 minutes to complete.\"\u001b[0m\u001b[0;34m)\u001b[0m\u001b[0;34m\u001b[0m\u001b[0;34m\u001b[0m\u001b[0m\n\u001b[0;32m----> 7\u001b[0;31m episode_returns, evaluator_returns = run_training_loop(\n\u001b[0m\u001b[1;32m      8\u001b[0m                                         \u001b[0menv_name\u001b[0m\u001b[0;34m,\u001b[0m\u001b[0;34m\u001b[0m\u001b[0;34m\u001b[0m\u001b[0m\n\u001b[1;32m      9\u001b[0m                                         \u001b[0mQ_LEARNING_PARAMS\u001b[0m\u001b[0;34m,\u001b[0m\u001b[0;34m\u001b[0m\u001b[0;34m\u001b[0m\u001b[0m\n",
            "\u001b[0;32m<ipython-input-12-df5e1941bf3d>\u001b[0m in \u001b[0;36mrun_training_loop\u001b[0;34m(env_name, agent_params, agent_select_action_func, agent_actor_state, agent_learn_func, agent_learner_state, agent_memory, num_episodes, evaluator_period, evaluation_episodes, learn_steps_per_episode, train_every_timestep, video_subdir)\u001b[0m\n\u001b[1;32m    103\u001b[0m                 \u001b[0;31m# First sample memory and then pass the result to the learn function\u001b[0m\u001b[0;34m\u001b[0m\u001b[0;34m\u001b[0m\u001b[0m\n\u001b[1;32m    104\u001b[0m                 \u001b[0mmemory\u001b[0m \u001b[0;34m=\u001b[0m \u001b[0magent_memory\u001b[0m\u001b[0;34m.\u001b[0m\u001b[0msample\u001b[0m\u001b[0;34m(\u001b[0m\u001b[0;34m)\u001b[0m\u001b[0;34m\u001b[0m\u001b[0;34m\u001b[0m\u001b[0m\n\u001b[0;32m--> 105\u001b[0;31m                 agent_params, agent_learner_state = agent_learn_func(\n\u001b[0m\u001b[1;32m    106\u001b[0m                                                         \u001b[0mnext\u001b[0m\u001b[0;34m(\u001b[0m\u001b[0mrng\u001b[0m\u001b[0;34m)\u001b[0m\u001b[0;34m,\u001b[0m\u001b[0;34m\u001b[0m\u001b[0;34m\u001b[0m\u001b[0m\n\u001b[1;32m    107\u001b[0m                                                         \u001b[0magent_params\u001b[0m\u001b[0;34m,\u001b[0m\u001b[0;34m\u001b[0m\u001b[0;34m\u001b[0m\u001b[0m\n",
            "    \u001b[0;31m[... skipping hidden 11 frame]\u001b[0m\n",
            "\u001b[0;32m<ipython-input-121-557ebae9a079>\u001b[0m in \u001b[0;36mq_learn\u001b[0;34m(rng, params, learner_state, memory)\u001b[0m\n\u001b[1;32m      1\u001b[0m \u001b[0;32mdef\u001b[0m \u001b[0mq_learn\u001b[0m\u001b[0;34m(\u001b[0m\u001b[0mrng\u001b[0m\u001b[0;34m,\u001b[0m \u001b[0mparams\u001b[0m\u001b[0;34m,\u001b[0m \u001b[0mlearner_state\u001b[0m\u001b[0;34m,\u001b[0m \u001b[0mmemory\u001b[0m\u001b[0;34m)\u001b[0m\u001b[0;34m:\u001b[0m\u001b[0;34m\u001b[0m\u001b[0;34m\u001b[0m\u001b[0m\n\u001b[1;32m      2\u001b[0m   \u001b[0;31m# Compute gradients\u001b[0m\u001b[0;34m\u001b[0m\u001b[0;34m\u001b[0m\u001b[0m\n\u001b[0;32m----> 3\u001b[0;31m   grad_loss = jax.grad(batched_q_learning_loss)(params.online, params.target, memory.obs,\n\u001b[0m\u001b[1;32m      4\u001b[0m                                           \u001b[0mmemory\u001b[0m\u001b[0;34m.\u001b[0m\u001b[0maction\u001b[0m\u001b[0;34m,\u001b[0m \u001b[0mmemory\u001b[0m\u001b[0;34m.\u001b[0m\u001b[0mreward\u001b[0m\u001b[0;34m,\u001b[0m\u001b[0;34m\u001b[0m\u001b[0;34m\u001b[0m\u001b[0m\n\u001b[1;32m      5\u001b[0m                                           \u001b[0mmemory\u001b[0m\u001b[0;34m.\u001b[0m\u001b[0mnext_obs\u001b[0m\u001b[0;34m,\u001b[0m \u001b[0mmemory\u001b[0m\u001b[0;34m.\u001b[0m\u001b[0mdone\u001b[0m\u001b[0;34m,\u001b[0m\u001b[0;34m\u001b[0m\u001b[0;34m\u001b[0m\u001b[0m\n",
            "    \u001b[0;31m[... skipping hidden 10 frame]\u001b[0m\n",
            "\u001b[0;32m<ipython-input-120-b94a34fb3709>\u001b[0m in \u001b[0;36mbatched_q_learning_loss\u001b[0;34m(online_params, target_params, obs, actions, rewards, next_obs, dones)\u001b[0m\n\u001b[1;32m      2\u001b[0m     \u001b[0mq_values\u001b[0m \u001b[0;34m=\u001b[0m \u001b[0mQ_NETWORK\u001b[0m\u001b[0;34m.\u001b[0m\u001b[0mapply\u001b[0m\u001b[0;34m(\u001b[0m\u001b[0monline_params\u001b[0m\u001b[0;34m,\u001b[0m \u001b[0mobs\u001b[0m\u001b[0;34m)\u001b[0m \u001b[0;31m# use the online parameters\u001b[0m\u001b[0;34m\u001b[0m\u001b[0;34m\u001b[0m\u001b[0m\n\u001b[1;32m      3\u001b[0m     \u001b[0mnext_q_values\u001b[0m \u001b[0;34m=\u001b[0m \u001b[0mQ_NETWORK\u001b[0m\u001b[0;34m.\u001b[0m\u001b[0mapply\u001b[0m\u001b[0;34m(\u001b[0m\u001b[0mtarget_params\u001b[0m\u001b[0;34m,\u001b[0m \u001b[0mnext_obs\u001b[0m\u001b[0;34m)\u001b[0m \u001b[0;31m# use the target parameters\u001b[0m\u001b[0;34m\u001b[0m\u001b[0;34m\u001b[0m\u001b[0m\n\u001b[0;32m----> 4\u001b[0;31m     \u001b[0msquared_error\u001b[0m \u001b[0;34m=\u001b[0m \u001b[0mjax\u001b[0m\u001b[0;34m.\u001b[0m\u001b[0mvmap\u001b[0m\u001b[0;34m(\u001b[0m\u001b[0mq_learning_loss\u001b[0m\u001b[0;34m)\u001b[0m\u001b[0;34m(\u001b[0m\u001b[0mq_values\u001b[0m\u001b[0;34m,\u001b[0m \u001b[0mactions\u001b[0m\u001b[0;34m,\u001b[0m \u001b[0mrewards\u001b[0m\u001b[0;34m,\u001b[0m \u001b[0mdones\u001b[0m\u001b[0;34m,\u001b[0m \u001b[0mnext_q_values\u001b[0m\u001b[0;34m)\u001b[0m \u001b[0;31m# vmap q_learning_loss\u001b[0m\u001b[0;34m\u001b[0m\u001b[0;34m\u001b[0m\u001b[0m\n\u001b[0m\u001b[1;32m      5\u001b[0m     \u001b[0mmean_squared_error\u001b[0m \u001b[0;34m=\u001b[0m \u001b[0mjnp\u001b[0m\u001b[0;34m.\u001b[0m\u001b[0mmean\u001b[0m\u001b[0;34m(\u001b[0m\u001b[0msquared_error\u001b[0m\u001b[0;34m)\u001b[0m \u001b[0;31m# mean squared error over batch\u001b[0m\u001b[0;34m\u001b[0m\u001b[0;34m\u001b[0m\u001b[0m\n\u001b[1;32m      6\u001b[0m     \u001b[0;32mreturn\u001b[0m \u001b[0mmean_squared_error\u001b[0m\u001b[0;34m\u001b[0m\u001b[0;34m\u001b[0m\u001b[0m\n",
            "    \u001b[0;31m[... skipping hidden 3 frame]\u001b[0m\n",
            "\u001b[0;32m<ipython-input-116-fc0d06cc4baf>\u001b[0m in \u001b[0;36mq_learning_loss\u001b[0;34m(q_values, action, reward, done, next_q_values)\u001b[0m\n\u001b[1;32m     12\u001b[0m     \u001b[0;31m# YOUR CODE\u001b[0m\u001b[0;34m\u001b[0m\u001b[0;34m\u001b[0m\u001b[0m\n\u001b[1;32m     13\u001b[0m     \u001b[0mchosen_action_q_value\u001b[0m \u001b[0;34m=\u001b[0m \u001b[0mq_values\u001b[0m\u001b[0;34m[\u001b[0m\u001b[0maction\u001b[0m\u001b[0;34m]\u001b[0m \u001b[0;31m# q_value of action, use array indexing\u001b[0m\u001b[0;34m\u001b[0m\u001b[0;34m\u001b[0m\u001b[0m\n\u001b[0;32m---> 14\u001b[0;31m     \u001b[0mbellman_target\u001b[0m \u001b[0;34m=\u001b[0m \u001b[0mcompute_bellman_target\u001b[0m\u001b[0;34m(\u001b[0m\u001b[0mreward\u001b[0m\u001b[0;34m,\u001b[0m \u001b[0mdone\u001b[0m\u001b[0;34m,\u001b[0m \u001b[0mnext_q_values\u001b[0m\u001b[0;34m)\u001b[0m\u001b[0;34m\u001b[0m\u001b[0;34m\u001b[0m\u001b[0m\n\u001b[0m\u001b[1;32m     15\u001b[0m     \u001b[0msquared_error\u001b[0m \u001b[0;34m=\u001b[0m \u001b[0mcompute_squared_error\u001b[0m\u001b[0;34m(\u001b[0m\u001b[0mchosen_action_q_value\u001b[0m\u001b[0;34m,\u001b[0m \u001b[0mbellman_target\u001b[0m\u001b[0;34m)\u001b[0m\u001b[0;34m\u001b[0m\u001b[0;34m\u001b[0m\u001b[0m\n\u001b[1;32m     16\u001b[0m     \u001b[0;31m# END YOUR CODE\u001b[0m\u001b[0;34m\u001b[0m\u001b[0;34m\u001b[0m\u001b[0m\n",
            "\u001b[0;32m<ipython-input-114-3f4ec17e130b>\u001b[0m in \u001b[0;36mcompute_bellman_target\u001b[0;34m(reward, done, next_q_values)\u001b[0m\n\u001b[1;32m     13\u001b[0m   \u001b[0;31m# YOUR CODE\u001b[0m\u001b[0;34m\u001b[0m\u001b[0;34m\u001b[0m\u001b[0m\n\u001b[1;32m     14\u001b[0m   \u001b[0mbellman_target\u001b[0m \u001b[0;34m=\u001b[0m \u001b[0mreward\u001b[0m\u001b[0;34m\u001b[0m\u001b[0;34m\u001b[0m\u001b[0m\n\u001b[0;32m---> 15\u001b[0;31m   \u001b[0;32mif\u001b[0m \u001b[0mbool\u001b[0m\u001b[0;34m(\u001b[0m\u001b[0mdone\u001b[0m\u001b[0;34m)\u001b[0m \u001b[0;34m==\u001b[0m \u001b[0;32mFalse\u001b[0m\u001b[0;34m:\u001b[0m\u001b[0;34m\u001b[0m\u001b[0;34m\u001b[0m\u001b[0m\n\u001b[0m\u001b[1;32m     16\u001b[0m     \u001b[0mbellman_target\u001b[0m\u001b[0;34m+=\u001b[0m\u001b[0mjax\u001b[0m\u001b[0;34m.\u001b[0m\u001b[0mnumpy\u001b[0m\u001b[0;34m.\u001b[0m\u001b[0mmax\u001b[0m\u001b[0;34m(\u001b[0m\u001b[0mnext_q_values\u001b[0m\u001b[0;34m)\u001b[0m\u001b[0;34m\u001b[0m\u001b[0;34m\u001b[0m\u001b[0m\n\u001b[1;32m     17\u001b[0m   \u001b[0;31m# END YOUR CODE\u001b[0m\u001b[0;34m\u001b[0m\u001b[0;34m\u001b[0m\u001b[0m\n",
            "    \u001b[0;31m[... skipping hidden 1 frame]\u001b[0m\n",
            "\u001b[0;32m/usr/local/lib/python3.10/dist-packages/jax/_src/core.py\u001b[0m in \u001b[0;36merror\u001b[0;34m(self, arg)\u001b[0m\n\u001b[1;32m   1536\u001b[0m   \u001b[0;32mif\u001b[0m \u001b[0mfun\u001b[0m \u001b[0;32mis\u001b[0m \u001b[0mbool\u001b[0m\u001b[0;34m:\u001b[0m\u001b[0;34m\u001b[0m\u001b[0;34m\u001b[0m\u001b[0m\n\u001b[1;32m   1537\u001b[0m     \u001b[0;32mdef\u001b[0m \u001b[0merror\u001b[0m\u001b[0;34m(\u001b[0m\u001b[0mself\u001b[0m\u001b[0;34m,\u001b[0m \u001b[0marg\u001b[0m\u001b[0;34m)\u001b[0m\u001b[0;34m:\u001b[0m\u001b[0;34m\u001b[0m\u001b[0;34m\u001b[0m\u001b[0m\n\u001b[0;32m-> 1538\u001b[0;31m       \u001b[0;32mraise\u001b[0m \u001b[0mTracerBoolConversionError\u001b[0m\u001b[0;34m(\u001b[0m\u001b[0marg\u001b[0m\u001b[0;34m)\u001b[0m\u001b[0;34m\u001b[0m\u001b[0;34m\u001b[0m\u001b[0m\n\u001b[0m\u001b[1;32m   1539\u001b[0m   \u001b[0;32melif\u001b[0m \u001b[0mfun\u001b[0m \u001b[0;32min\u001b[0m \u001b[0;34m(\u001b[0m\u001b[0mhex\u001b[0m\u001b[0;34m,\u001b[0m \u001b[0moct\u001b[0m\u001b[0;34m,\u001b[0m \u001b[0moperator\u001b[0m\u001b[0;34m.\u001b[0m\u001b[0mindex\u001b[0m\u001b[0;34m)\u001b[0m\u001b[0;34m:\u001b[0m\u001b[0;34m\u001b[0m\u001b[0;34m\u001b[0m\u001b[0m\n\u001b[1;32m   1540\u001b[0m     \u001b[0;32mdef\u001b[0m \u001b[0merror\u001b[0m\u001b[0;34m(\u001b[0m\u001b[0mself\u001b[0m\u001b[0;34m,\u001b[0m \u001b[0marg\u001b[0m\u001b[0;34m)\u001b[0m\u001b[0;34m:\u001b[0m\u001b[0;34m\u001b[0m\u001b[0;34m\u001b[0m\u001b[0m\n",
            "\u001b[0;31mTracerBoolConversionError\u001b[0m: Attempted boolean conversion of traced array with shape float32[].\nThis BatchTracer with object id 137119003374304 was created on line:\n  <ipython-input-120-b94a34fb3709>:4 (batched_q_learning_loss)\nSee https://jax.readthedocs.io/en/latest/errors.html#jax.errors.TracerBoolConversionError"
          ]
        }
      ],
      "source": [
        "# Jit functions\n",
        "q_learning_select_action_jit = jax.jit(q_learning_select_action)\n",
        "q_learn_jit = jax.jit(q_learn)\n",
        "\n",
        "# Run environment loop\n",
        "print(\"Starting training. This may take up to 8 minutes to complete.\")\n",
        "episode_returns, evaluator_returns = run_training_loop(\n",
        "                                        env_name,\n",
        "                                        Q_LEARNING_PARAMS,\n",
        "                                        q_learning_select_action_jit,\n",
        "                                        Q_LEARNING_ACTOR_STATE,\n",
        "                                        q_learn_jit,\n",
        "                                        Q_LEARNING_LEARN_STATE,\n",
        "                                        Q_LEARNING_MEMORY,\n",
        "                                        num_episodes=1001,\n",
        "                                        train_every_timestep=True, # do learning after every timestep\n",
        "                                        video_subdir=\"q_learning\"\n",
        "                                    )\n",
        "\n",
        "plt.plot(episode_returns)\n",
        "plt.xlabel(\"Episodes\")\n",
        "plt.ylabel(\"Episode Return\")\n",
        "plt.title(\"Deep Q-Learning\")\n",
        "plt.show()"
      ]
    },
    {
      "cell_type": "markdown",
      "metadata": {
        "id": "2k0-41wbpFDE"
      },
      "source": [
        "На этом этапе, как мы надеемся, приближенная Q-функция сошлась к приемлемой политике балансировки шеста в задаче CartPole."
      ]
    },
    {
      "cell_type": "code",
      "execution_count": null,
      "metadata": {
        "id": "t4v0ZbB4FQUs",
        "cellView": "form"
      },
      "outputs": [],
      "source": [
        "#@title Визуализация политики\n",
        "#@markdown Выберите номер эпизода, кратный 100 и меньший или равный 1000, и **запустите эту ячейку**.\n",
        "episode_number = 600 #@param {type:\"number\"}\n",
        "\n",
        "assert (episode_number % 100) == 0, \"Episode number must be a multiple of 100 since we only record every 100th episode.\"\n",
        "assert episode_number < 1001, \"Episode number must be less than or equal to 1000\"\n",
        "\n",
        "\n",
        "eval_episode_number = int(episode_number / 100 * 8)\n",
        "video_path = f\"./video/q_learning/eval/rl-video-episode-{eval_episode_number}.mp4\"\n",
        "\n",
        "mp4 = open(video_path,'rb').read()\n",
        "data_url = \"data:video/mp4;base64,\" + b64encode(mp4).decode()\n",
        "HTML(\"\"\"\n",
        "<video width=400 controls>\n",
        "      <source src=\"%s\" type=\"video/mp4\">\n",
        "</video>\n",
        "\"\"\" % data_url)"
      ]
    },
    {
      "cell_type": "markdown",
      "metadata": {
        "id": "fV3YG7QOZD-B"
      },
      "source": [
        "Кроме того, существует множество алгоритмов RL, которые вносят существенные улучшения в REINFORCE и Deep Q-Learning. См. эти ресурсы:\n",
        "* [REINFORCE с базовым уровнем](https://spinningup.openai.com/en/latest/spinningup/rl_intro3.html#baselines-in-policy-gradients)\n",
        "* [Double Deep Q-Network](https://arxiv.org/pdf/1509.06461.pdf)\n",
        "* [Proximal Policy Optimisation (PPO)](https://arxiv.org/pdf/1707.06347.pdf)\n",
        "\n",
        "Если вы ищете более углубленный онлайн-курс по RL, вы можете ознакомиться с этими курсами:\n",
        "* [Reinforcement Learning Foundations on LinkedIn Learning](https://www.linkedin.com/learning/reinforcement-learning-foundations) (создано одним из наших собственных преподавателей, Хаулатом Абдулхакимом)\n",
        "* [Введение в Reinforcement Learning on FreeCodeCamp](https://www.freecodecamp.org/news/an-introduction-to-reinforcement-learning-4339519de419/)\n",
        "* [Специализация обучения с подкреплением на Coursera](https://www.coursera.org/specializations/reinforcement-learning)\n",
        "\n",
        "Наконец, самый влиятельный учебник по обучению с подкреплением доступен бесплатно онлайн:\n",
        "* [Обучение с подкреплением: введение](http://incompleteideas.net/book/the-book-2nd.html) Ричарда С. Саттона и Эндрю Г. Барто\n",
        "\n",
        "\n",
        "**Ссылки:**\n",
        "\n",
        "* [OpenAI Spinning Up](https://spinningup.openai.com/en/latest/)\n",
        "* [Deep Q-Network]()"
      ]
    },
    {
      "cell_type": "code",
      "source": [],
      "metadata": {
        "id": "6V47Vd_i3qk7"
      },
      "execution_count": null,
      "outputs": []
    }
  ],
  "metadata": {
    "colab": {
      "provenance": []
    },
    "kernelspec": {
      "display_name": "Python 3",
      "name": "python3"
    },
    "language_info": {
      "codemirror_mode": {
        "name": "ipython",
        "version": 3
      },
      "file_extension": ".py",
      "mimetype": "text/x-python",
      "name": "python",
      "nbconvert_exporter": "python",
      "pygments_lexer": "ipython3",
      "version": "3.8.13"
    },
    "vscode": {
      "interpreter": {
        "hash": "0f35138c66f99be0fd7a1210bb4aa94a6fbaa5f29d51ad43aec0e0ea0ff050f0"
      }
    }
  },
  "nbformat": 4,
  "nbformat_minor": 0
}